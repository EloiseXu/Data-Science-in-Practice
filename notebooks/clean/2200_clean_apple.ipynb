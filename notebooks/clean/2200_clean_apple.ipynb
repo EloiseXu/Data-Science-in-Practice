{
 "cells": [
  {
   "cell_type": "markdown",
   "metadata": {},
   "source": [
    "Cleaning apple dataset\n",
    "\n",
    "Purpose This notebook is to clean and then test apple dataset."
   ]
  },
  {
   "cell_type": "code",
   "execution_count": 1,
   "metadata": {},
   "outputs": [],
   "source": [
    "from os.path import exists, isfile\n",
    "\n",
    "import re\n",
    "\n",
    "import pandas as pd\n",
    "import numpy as np\n",
    "import math\n",
    "import great_expectations as ge"
   ]
  },
  {
   "cell_type": "code",
   "execution_count": 2,
   "metadata": {},
   "outputs": [],
   "source": [
    "save_path = '../../datasets/2200_clean_apple.csv'"
   ]
  },
  {
   "cell_type": "code",
   "execution_count": 3,
   "metadata": {},
   "outputs": [
    {
     "data": {
      "text/html": [
       "<div>\n",
       "<style scoped>\n",
       "    .dataframe tbody tr th:only-of-type {\n",
       "        vertical-align: middle;\n",
       "    }\n",
       "\n",
       "    .dataframe tbody tr th {\n",
       "        vertical-align: top;\n",
       "    }\n",
       "\n",
       "    .dataframe thead th {\n",
       "        text-align: right;\n",
       "    }\n",
       "</style>\n",
       "<table border=\"1\" class=\"dataframe\">\n",
       "  <thead>\n",
       "    <tr style=\"text-align: right;\">\n",
       "      <th></th>\n",
       "      <th>id</th>\n",
       "      <th>track_name</th>\n",
       "      <th>size_bytes</th>\n",
       "      <th>price</th>\n",
       "      <th>rating_count_tot</th>\n",
       "      <th>user_rating</th>\n",
       "      <th>cont_rating</th>\n",
       "      <th>prime_genre</th>\n",
       "    </tr>\n",
       "  </thead>\n",
       "  <tbody>\n",
       "    <tr>\n",
       "      <th>0</th>\n",
       "      <td>281656475</td>\n",
       "      <td>PAC-MAN Premium</td>\n",
       "      <td>100788224</td>\n",
       "      <td>3.99</td>\n",
       "      <td>21292</td>\n",
       "      <td>4.0</td>\n",
       "      <td>4+</td>\n",
       "      <td>Games</td>\n",
       "    </tr>\n",
       "    <tr>\n",
       "      <th>1</th>\n",
       "      <td>281796108</td>\n",
       "      <td>Evernote - stay organized</td>\n",
       "      <td>158578688</td>\n",
       "      <td>0.00</td>\n",
       "      <td>161065</td>\n",
       "      <td>4.0</td>\n",
       "      <td>4+</td>\n",
       "      <td>Business</td>\n",
       "    </tr>\n",
       "    <tr>\n",
       "      <th>2</th>\n",
       "      <td>281940292</td>\n",
       "      <td>WeatherBug - Local Weather, Radar, Maps, Alerts</td>\n",
       "      <td>100524032</td>\n",
       "      <td>0.00</td>\n",
       "      <td>188583</td>\n",
       "      <td>3.5</td>\n",
       "      <td>4+</td>\n",
       "      <td>Others</td>\n",
       "    </tr>\n",
       "    <tr>\n",
       "      <th>3</th>\n",
       "      <td>282614216</td>\n",
       "      <td>eBay: Best App to Buy, Sell, Save! Online Shop...</td>\n",
       "      <td>128512000</td>\n",
       "      <td>0.00</td>\n",
       "      <td>262241</td>\n",
       "      <td>4.0</td>\n",
       "      <td>12+</td>\n",
       "      <td>Lifestyle</td>\n",
       "    </tr>\n",
       "    <tr>\n",
       "      <th>4</th>\n",
       "      <td>282935706</td>\n",
       "      <td>Bible</td>\n",
       "      <td>92774400</td>\n",
       "      <td>0.00</td>\n",
       "      <td>985920</td>\n",
       "      <td>4.5</td>\n",
       "      <td>4+</td>\n",
       "      <td>Books &amp; Reference</td>\n",
       "    </tr>\n",
       "  </tbody>\n",
       "</table>\n",
       "</div>"
      ],
      "text/plain": [
       "          id                                         track_name  size_bytes  \\\n",
       "0  281656475                                    PAC-MAN Premium   100788224   \n",
       "1  281796108                          Evernote - stay organized   158578688   \n",
       "2  281940292    WeatherBug - Local Weather, Radar, Maps, Alerts   100524032   \n",
       "3  282614216  eBay: Best App to Buy, Sell, Save! Online Shop...   128512000   \n",
       "4  282935706                                              Bible    92774400   \n",
       "\n",
       "   price  rating_count_tot  user_rating cont_rating        prime_genre  \n",
       "0   3.99             21292          4.0          4+              Games  \n",
       "1   0.00            161065          4.0          4+           Business  \n",
       "2   0.00            188583          3.5          4+             Others  \n",
       "3   0.00            262241          4.0         12+          Lifestyle  \n",
       "4   0.00            985920          4.5          4+  Books & Reference  "
      ]
     },
     "execution_count": 3,
     "metadata": {},
     "output_type": "execute_result"
    }
   ],
   "source": [
    "if not exists(\"../../datasets/1400_kaggle_dataset_apple.csv\"):\n",
    "    print (\"Missing dataset file\")\n",
    "    \n",
    "df_apple=ge.read_csv(\"../../datasets/1400_kaggle_dataset_apple.csv\")\n",
    "df_apple.head()"
   ]
  },
  {
   "cell_type": "markdown",
   "metadata": {},
   "source": [
    "We have previously normalize the genres. We expect that new genres will only be those we want."
   ]
  },
  {
   "cell_type": "code",
   "execution_count": 4,
   "metadata": {},
   "outputs": [
    {
     "data": {
      "text/plain": [
       "{'success': True,\n",
       " 'result': {'element_count': 7197,\n",
       "  'missing_count': 0,\n",
       "  'missing_percent': 0.0,\n",
       "  'unexpected_count': 0,\n",
       "  'unexpected_percent': 0.0,\n",
       "  'unexpected_percent_nonmissing': 0.0,\n",
       "  'partial_unexpected_list': []}}"
      ]
     },
     "execution_count": 4,
     "metadata": {},
     "output_type": "execute_result"
    }
   ],
   "source": [
    "valid_genre = set(['Utilities', 'Auto & Vehicles', 'Books & Reference', 'Business',\n",
    "       'Entertainment', 'Social Networking', 'Education', 'News',\n",
    "       'Food & Drink', 'Health & Fitness', 'Others', 'Lifestyle', 'Games'])\n",
    "\n",
    "df_apple.expect_column_values_to_be_in_set('prime_genre', valid_genre)"
   ]
  },
  {
   "cell_type": "code",
   "execution_count": 5,
   "metadata": {},
   "outputs": [
    {
     "name": "stdout",
     "output_type": "stream",
     "text": [
      "<class 'great_expectations.dataset.pandas_dataset.PandasDataset'>\n",
      "RangeIndex: 7197 entries, 0 to 7196\n",
      "Data columns (total 8 columns):\n",
      "id                  7197 non-null int64\n",
      "track_name          7197 non-null object\n",
      "size_bytes          7197 non-null int64\n",
      "price               7197 non-null float64\n",
      "rating_count_tot    7197 non-null int64\n",
      "user_rating         7197 non-null float64\n",
      "cont_rating         7197 non-null object\n",
      "prime_genre         7197 non-null object\n",
      "dtypes: float64(2), int64(3), object(3)\n",
      "memory usage: 449.9+ KB\n"
     ]
    }
   ],
   "source": [
    "df_apple.info()"
   ]
  },
  {
   "cell_type": "markdown",
   "metadata": {},
   "source": [
    "We want size to be a numerical feature. We want \"size\" to be a float, which is, \"Megabytes\" of each app."
   ]
  },
  {
   "cell_type": "code",
   "execution_count": 6,
   "metadata": {},
   "outputs": [
    {
     "data": {
      "text/plain": [
       "count    7197.000000\n",
       "mean      189.909414\n",
       "std       342.566408\n",
       "min         0.562500\n",
       "25%        44.749023\n",
       "50%        92.652344\n",
       "75%       173.497070\n",
       "max      3839.463867\n",
       "Name: size_bytes, dtype: float64"
      ]
     },
     "execution_count": 6,
     "metadata": {},
     "output_type": "execute_result"
    }
   ],
   "source": [
    "df_apple['size_bytes'] = df_apple['size_bytes'].map(lambda x: x*1.0/(1024*1024))\n",
    "df_apple['size_bytes'].describe()"
   ]
  },
  {
   "cell_type": "markdown",
   "metadata": {},
   "source": [
    "Since we will compare the content rating of apple apps and google apps later, we should have the same standard for both. Here we normalize those apps' content rating."
   ]
  },
  {
   "cell_type": "code",
   "execution_count": 7,
   "metadata": {},
   "outputs": [
    {
     "data": {
      "text/plain": [
       "array(['4+', '12+', '17+', '9+'], dtype=object)"
      ]
     },
     "execution_count": 7,
     "metadata": {},
     "output_type": "execute_result"
    }
   ],
   "source": [
    "df_apple['cont_rating'].unique()"
   ]
  },
  {
   "cell_type": "code",
   "execution_count": 8,
   "metadata": {},
   "outputs": [
    {
     "data": {
      "text/plain": [
       "0"
      ]
     },
     "execution_count": 8,
     "metadata": {},
     "output_type": "execute_result"
    }
   ],
   "source": [
    "df_apple['cont_rating'].isnull().sum()"
   ]
  },
  {
   "cell_type": "code",
   "execution_count": 9,
   "metadata": {},
   "outputs": [
    {
     "data": {
      "text/plain": [
       "array(['Everyone', 'Teen', 'Mature 17+', 'Everyone 10+'], dtype=object)"
      ]
     },
     "execution_count": 9,
     "metadata": {},
     "output_type": "execute_result"
    }
   ],
   "source": [
    "df_apple['cont_rating'] = df_apple['cont_rating'].replace({'4+': 'Everyone', '9+': 'Everyone 10+', '12+': 'Teen', '17+': 'Mature 17+'})\n",
    "df_apple['cont_rating'].unique()"
   ]
  },
  {
   "cell_type": "code",
   "execution_count": 10,
   "metadata": {},
   "outputs": [
    {
     "data": {
      "text/plain": [
       "count    7197.000000\n",
       "mean        3.526956\n",
       "std         1.517948\n",
       "min         0.000000\n",
       "25%         3.500000\n",
       "50%         4.000000\n",
       "75%         4.500000\n",
       "max         5.000000\n",
       "Name: user_rating, dtype: float64"
      ]
     },
     "execution_count": 10,
     "metadata": {},
     "output_type": "execute_result"
    }
   ],
   "source": [
    "df_apple['user_rating'].describe()"
   ]
  },
  {
   "cell_type": "markdown",
   "metadata": {},
   "source": [
    "It is unreasonable that some apps have 0 as their ratings. If they get such a low rating because no users have rated them, then those 0s are outliers that should be dropped."
   ]
  },
  {
   "cell_type": "code",
   "execution_count": 11,
   "metadata": {},
   "outputs": [
    {
     "data": {
      "text/plain": [
       "{'success': True,\n",
       " 'result': {'element_count': 7197,\n",
       "  'missing_count': 0,\n",
       "  'missing_percent': 0.0,\n",
       "  'unexpected_count': 0,\n",
       "  'unexpected_percent': 0.0,\n",
       "  'partial_unexpected_list': []}}"
      ]
     },
     "execution_count": 11,
     "metadata": {},
     "output_type": "execute_result"
    }
   ],
   "source": [
    "df_apple.expect_column_values_to_not_be_null('id')"
   ]
  },
  {
   "cell_type": "code",
   "execution_count": 12,
   "metadata": {},
   "outputs": [
    {
     "data": {
      "text/plain": [
       "{'success': True,\n",
       " 'result': {'element_count': 7197,\n",
       "  'missing_count': 0,\n",
       "  'missing_percent': 0.0,\n",
       "  'unexpected_count': 0,\n",
       "  'unexpected_percent': 0.0,\n",
       "  'partial_unexpected_list': []}}"
      ]
     },
     "execution_count": 12,
     "metadata": {},
     "output_type": "execute_result"
    }
   ],
   "source": [
    "df_apple.expect_column_values_to_not_be_null('track_name')"
   ]
  },
  {
   "cell_type": "code",
   "execution_count": 13,
   "metadata": {},
   "outputs": [
    {
     "data": {
      "text/plain": [
       "{'success': True,\n",
       " 'result': {'element_count': 7197,\n",
       "  'missing_count': 0,\n",
       "  'missing_percent': 0.0,\n",
       "  'unexpected_count': 0,\n",
       "  'unexpected_percent': 0.0,\n",
       "  'unexpected_percent_nonmissing': 0.0,\n",
       "  'partial_unexpected_list': []}}"
      ]
     },
     "execution_count": 13,
     "metadata": {},
     "output_type": "execute_result"
    }
   ],
   "source": [
    "df_apple.expect_column_values_to_be_unique('id')"
   ]
  },
  {
   "cell_type": "code",
   "execution_count": 14,
   "metadata": {},
   "outputs": [
    {
     "data": {
      "text/plain": [
       "{'success': False,\n",
       " 'result': {'element_count': 7197,\n",
       "  'missing_count': 0,\n",
       "  'missing_percent': 0.0,\n",
       "  'unexpected_count': 4,\n",
       "  'unexpected_percent': 0.0005557871335278589,\n",
       "  'unexpected_percent_nonmissing': 0.0005557871335278589,\n",
       "  'partial_unexpected_list': ['VR Roller Coaster',\n",
       "   'VR Roller Coaster',\n",
       "   'Mannequin Challenge',\n",
       "   'Mannequin Challenge']}}"
      ]
     },
     "execution_count": 14,
     "metadata": {},
     "output_type": "execute_result"
    }
   ],
   "source": [
    "df_apple.expect_column_values_to_be_unique('track_name')"
   ]
  },
  {
   "cell_type": "code",
   "execution_count": 15,
   "metadata": {},
   "outputs": [
    {
     "data": {
      "text/html": [
       "<div>\n",
       "<style scoped>\n",
       "    .dataframe tbody tr th:only-of-type {\n",
       "        vertical-align: middle;\n",
       "    }\n",
       "\n",
       "    .dataframe tbody tr th {\n",
       "        vertical-align: top;\n",
       "    }\n",
       "\n",
       "    .dataframe thead th {\n",
       "        text-align: right;\n",
       "    }\n",
       "</style>\n",
       "<table border=\"1\" class=\"dataframe\">\n",
       "  <thead>\n",
       "    <tr style=\"text-align: right;\">\n",
       "      <th></th>\n",
       "      <th>id</th>\n",
       "      <th>track_name</th>\n",
       "      <th>size_bytes</th>\n",
       "      <th>price</th>\n",
       "      <th>rating_count_tot</th>\n",
       "      <th>user_rating</th>\n",
       "      <th>cont_rating</th>\n",
       "      <th>prime_genre</th>\n",
       "    </tr>\n",
       "  </thead>\n",
       "  <tbody>\n",
       "    <tr>\n",
       "      <th>3319</th>\n",
       "      <td>952877179</td>\n",
       "      <td>VR Roller Coaster</td>\n",
       "      <td>161.669922</td>\n",
       "      <td>0.0</td>\n",
       "      <td>107</td>\n",
       "      <td>3.5</td>\n",
       "      <td>Everyone</td>\n",
       "      <td>Games</td>\n",
       "    </tr>\n",
       "    <tr>\n",
       "      <th>5603</th>\n",
       "      <td>1089824278</td>\n",
       "      <td>VR Roller Coaster</td>\n",
       "      <td>229.801758</td>\n",
       "      <td>0.0</td>\n",
       "      <td>67</td>\n",
       "      <td>3.5</td>\n",
       "      <td>Everyone</td>\n",
       "      <td>Games</td>\n",
       "    </tr>\n",
       "  </tbody>\n",
       "</table>\n",
       "</div>"
      ],
      "text/plain": [
       "              id         track_name  size_bytes  price  rating_count_tot  \\\n",
       "3319   952877179  VR Roller Coaster  161.669922    0.0               107   \n",
       "5603  1089824278  VR Roller Coaster  229.801758    0.0                67   \n",
       "\n",
       "      user_rating cont_rating prime_genre  \n",
       "3319          3.5    Everyone       Games  \n",
       "5603          3.5    Everyone       Games  "
      ]
     },
     "execution_count": 15,
     "metadata": {},
     "output_type": "execute_result"
    }
   ],
   "source": [
    "df_apple[df_apple['track_name']=='VR Roller Coaster']"
   ]
  },
  {
   "cell_type": "code",
   "execution_count": 16,
   "metadata": {},
   "outputs": [
    {
     "data": {
      "text/html": [
       "<div>\n",
       "<style scoped>\n",
       "    .dataframe tbody tr th:only-of-type {\n",
       "        vertical-align: middle;\n",
       "    }\n",
       "\n",
       "    .dataframe tbody tr th {\n",
       "        vertical-align: top;\n",
       "    }\n",
       "\n",
       "    .dataframe thead th {\n",
       "        text-align: right;\n",
       "    }\n",
       "</style>\n",
       "<table border=\"1\" class=\"dataframe\">\n",
       "  <thead>\n",
       "    <tr style=\"text-align: right;\">\n",
       "      <th></th>\n",
       "      <th>size_bytes</th>\n",
       "      <th>rating_count_tot</th>\n",
       "      <th>user_rating</th>\n",
       "    </tr>\n",
       "  </thead>\n",
       "  <tbody>\n",
       "    <tr>\n",
       "      <th>7092</th>\n",
       "      <td>104.623047</td>\n",
       "      <td>668</td>\n",
       "      <td>3.0</td>\n",
       "    </tr>\n",
       "    <tr>\n",
       "      <th>7128</th>\n",
       "      <td>56.812500</td>\n",
       "      <td>105</td>\n",
       "      <td>4.0</td>\n",
       "    </tr>\n",
       "  </tbody>\n",
       "</table>\n",
       "</div>"
      ],
      "text/plain": [
       "      size_bytes  rating_count_tot  user_rating\n",
       "7092  104.623047               668          3.0\n",
       "7128   56.812500               105          4.0"
      ]
     },
     "execution_count": 16,
     "metadata": {},
     "output_type": "execute_result"
    }
   ],
   "source": [
    "df_apple[df_apple['track_name']=='Mannequin Challenge'][['size_bytes', 'rating_count_tot', 'user_rating']]"
   ]
  },
  {
   "cell_type": "code",
   "execution_count": 17,
   "metadata": {},
   "outputs": [
    {
     "data": {
      "text/plain": [
       "(7195, 8)"
      ]
     },
     "execution_count": 17,
     "metadata": {},
     "output_type": "execute_result"
    }
   ],
   "source": [
    "df_apple = df_apple[~df_apple.duplicated(subset=['track_name'])]\n",
    "df_apple.shape"
   ]
  },
  {
   "cell_type": "code",
   "execution_count": 18,
   "metadata": {},
   "outputs": [
    {
     "data": {
      "text/plain": [
       "199     0\n",
       "301     0\n",
       "330     0\n",
       "441     0\n",
       "452     0\n",
       "515     0\n",
       "531     0\n",
       "553     0\n",
       "575     0\n",
       "612     0\n",
       "658     0\n",
       "667     0\n",
       "669     0\n",
       "721     0\n",
       "778     0\n",
       "779     0\n",
       "809     0\n",
       "844     0\n",
       "859     0\n",
       "870     0\n",
       "905     0\n",
       "957     0\n",
       "1030    0\n",
       "1048    0\n",
       "1049    0\n",
       "1060    0\n",
       "1068    0\n",
       "1072    0\n",
       "1085    0\n",
       "1102    0\n",
       "       ..\n",
       "7089    0\n",
       "7094    0\n",
       "7095    0\n",
       "7096    0\n",
       "7104    0\n",
       "7107    0\n",
       "7118    0\n",
       "7120    0\n",
       "7124    0\n",
       "7126    0\n",
       "7132    0\n",
       "7133    0\n",
       "7135    0\n",
       "7143    0\n",
       "7145    0\n",
       "7149    0\n",
       "7151    0\n",
       "7152    0\n",
       "7153    0\n",
       "7157    0\n",
       "7164    0\n",
       "7165    0\n",
       "7173    0\n",
       "7176    0\n",
       "7178    0\n",
       "7181    0\n",
       "7182    0\n",
       "7184    0\n",
       "7185    0\n",
       "7189    0\n",
       "Name: rating_count_tot, Length: 929, dtype: int64"
      ]
     },
     "execution_count": 18,
     "metadata": {},
     "output_type": "execute_result"
    }
   ],
   "source": [
    "df_apple[df_apple['user_rating']==0]['rating_count_tot']"
   ]
  },
  {
   "cell_type": "markdown",
   "metadata": {},
   "source": [
    "Ratings given by less than 3 users are not reliable. We only keep those apps with more than 3 users giving ratings to them. "
   ]
  },
  {
   "cell_type": "code",
   "execution_count": 19,
   "metadata": {},
   "outputs": [
    {
     "data": {
      "text/plain": [
       "(6078, 8)"
      ]
     },
     "execution_count": 19,
     "metadata": {},
     "output_type": "execute_result"
    }
   ],
   "source": [
    "min_reviews = 3\n",
    "df_apple = df_apple[df_apple['rating_count_tot']>min_reviews]\n",
    "df_apple.shape"
   ]
  },
  {
   "cell_type": "code",
   "execution_count": 20,
   "metadata": {},
   "outputs": [
    {
     "data": {
      "text/plain": [
       "{'success': True,\n",
       " 'result': {'observed_value': 4,\n",
       "  'element_count': 6078,\n",
       "  'missing_count': 0,\n",
       "  'missing_percent': 0.0}}"
      ]
     },
     "execution_count": 20,
     "metadata": {},
     "output_type": "execute_result"
    }
   ],
   "source": [
    "df_apple.expect_column_min_to_be_between('rating_count_tot', min_reviews, 100000000)"
   ]
  },
  {
   "cell_type": "markdown",
   "metadata": {},
   "source": [
    "While we are dealing with ratings let's normalise google and apple ratings so that they are on the same scale."
   ]
  },
  {
   "cell_type": "code",
   "execution_count": 21,
   "metadata": {},
   "outputs": [
    {
     "data": {
      "text/plain": [
       "{'success': True,\n",
       " 'result': {'element_count': 6078,\n",
       "  'missing_count': 0,\n",
       "  'missing_percent': 0.0,\n",
       "  'unexpected_count': 0,\n",
       "  'unexpected_percent': 0.0,\n",
       "  'unexpected_percent_nonmissing': 0.0,\n",
       "  'partial_unexpected_list': []}}"
      ]
     },
     "execution_count": 21,
     "metadata": {},
     "output_type": "execute_result"
    }
   ],
   "source": [
    "df_apple['normed_rating'] = df_apple['user_rating']/df_apple['user_rating'].max()\n",
    "df_apple.expect_column_values_to_be_between('normed_rating', 0, 1)"
   ]
  },
  {
   "cell_type": "code",
   "execution_count": 22,
   "metadata": {},
   "outputs": [],
   "source": [
    "def z_score(column, df):\n",
    "    return (df[column] - df[column].mean())/df[column].std()\n",
    "\n",
    "df_apple['z_score'] = z_score('user_rating', df_apple)"
   ]
  },
  {
   "cell_type": "code",
   "execution_count": 23,
   "metadata": {},
   "outputs": [],
   "source": [
    "df_apple.loc[df_apple['rating_count_tot']>0,'log_apple_reviews'] = df_apple[df_apple['rating_count_tot']>0]['rating_count_tot'].apply(lambda x: math.log(x, 10))"
   ]
  },
  {
   "cell_type": "code",
   "execution_count": 24,
   "metadata": {},
   "outputs": [
    {
     "data": {
      "text/html": [
       "<div>\n",
       "<style scoped>\n",
       "    .dataframe tbody tr th:only-of-type {\n",
       "        vertical-align: middle;\n",
       "    }\n",
       "\n",
       "    .dataframe tbody tr th {\n",
       "        vertical-align: top;\n",
       "    }\n",
       "\n",
       "    .dataframe thead th {\n",
       "        text-align: right;\n",
       "    }\n",
       "</style>\n",
       "<table border=\"1\" class=\"dataframe\">\n",
       "  <thead>\n",
       "    <tr style=\"text-align: right;\">\n",
       "      <th></th>\n",
       "      <th>id</th>\n",
       "      <th>track_name</th>\n",
       "      <th>size_bytes</th>\n",
       "      <th>price</th>\n",
       "      <th>rating_count_tot</th>\n",
       "      <th>user_rating</th>\n",
       "      <th>cont_rating</th>\n",
       "      <th>prime_genre</th>\n",
       "      <th>normed_rating</th>\n",
       "      <th>z_score</th>\n",
       "      <th>log_apple_reviews</th>\n",
       "    </tr>\n",
       "  </thead>\n",
       "  <tbody>\n",
       "  </tbody>\n",
       "</table>\n",
       "</div>"
      ],
      "text/plain": [
       "Empty PandasDataset\n",
       "Columns: [id, track_name, size_bytes, price, rating_count_tot, user_rating, cont_rating, prime_genre, normed_rating, z_score, log_apple_reviews]\n",
       "Index: []"
      ]
     },
     "execution_count": 24,
     "metadata": {},
     "output_type": "execute_result"
    }
   ],
   "source": [
    "df_apple[df_apple['rating_count_tot'].isnull()]"
   ]
  },
  {
   "cell_type": "code",
   "execution_count": 25,
   "metadata": {},
   "outputs": [],
   "source": [
    "df_apple.columns=['apple_id', 'apple_title', 'apple_size', 'apple_price', 'apple_reviews', 'apple_rating', 'apple_pegi', 'apple_genre', 'normed_apple_rating', 'z_score_apple', 'log_apple_reviews']"
   ]
  },
  {
   "cell_type": "code",
   "execution_count": 26,
   "metadata": {},
   "outputs": [
    {
     "data": {
      "text/plain": [
       "(6078, 11)"
      ]
     },
     "execution_count": 26,
     "metadata": {},
     "output_type": "execute_result"
    }
   ],
   "source": [
    "df_apple.to_csv(save_path, index=False)\n",
    "df_apple.shape"
   ]
  }
 ],
 "metadata": {
  "kernelspec": {
   "display_name": "Python 3",
   "language": "python",
   "name": "python3"
  },
  "language_info": {
   "codemirror_mode": {
    "name": "ipython",
    "version": 3
   },
   "file_extension": ".py",
   "mimetype": "text/x-python",
   "name": "python",
   "nbconvert_exporter": "python",
   "pygments_lexer": "ipython3",
   "version": "3.6.8"
  }
 },
 "nbformat": 4,
 "nbformat_minor": 2
}
