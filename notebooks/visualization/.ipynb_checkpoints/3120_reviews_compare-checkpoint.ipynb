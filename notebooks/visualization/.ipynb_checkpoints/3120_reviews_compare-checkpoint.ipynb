{
 "cells": [
  {
   "cell_type": "code",
   "execution_count": 1,
   "metadata": {},
   "outputs": [],
   "source": [
    "import math\n",
    "import pandas as pd\n",
    "import numpy as np\n",
    "\n",
    "import statsmodels.api as sm\n",
    "\n",
    "from matplotlib.pylab import plt\n",
    "import seaborn as sns\n",
    "\n",
    "from os.path import exists, isfile"
   ]
  },
  {
   "cell_type": "code",
   "execution_count": 2,
   "metadata": {},
   "outputs": [
    {
     "data": {
      "text/html": [
       "<div>\n",
       "<style scoped>\n",
       "    .dataframe tbody tr th:only-of-type {\n",
       "        vertical-align: middle;\n",
       "    }\n",
       "\n",
       "    .dataframe tbody tr th {\n",
       "        vertical-align: top;\n",
       "    }\n",
       "\n",
       "    .dataframe thead th {\n",
       "        text-align: right;\n",
       "    }\n",
       "</style>\n",
       "<table border=\"1\" class=\"dataframe\">\n",
       "  <thead>\n",
       "    <tr style=\"text-align: right;\">\n",
       "      <th></th>\n",
       "      <th>apple_rating</th>\n",
       "      <th>google_rating</th>\n",
       "      <th>normed_apple_rating</th>\n",
       "      <th>normed_google_rating</th>\n",
       "      <th>apple_revenue</th>\n",
       "      <th>google_revenue</th>\n",
       "      <th>z_score_apple_rating</th>\n",
       "      <th>z_score_google_rating</th>\n",
       "      <th>app_num</th>\n",
       "      <th>log_google_reviews</th>\n",
       "      <th>log_apple_reviews</th>\n",
       "      <th>google_reviews</th>\n",
       "      <th>apple_reviews</th>\n",
       "    </tr>\n",
       "  </thead>\n",
       "  <tbody>\n",
       "    <tr>\n",
       "      <th>0</th>\n",
       "      <td>4.0</td>\n",
       "      <td>4.4</td>\n",
       "      <td>0.8</td>\n",
       "      <td>0.88</td>\n",
       "      <td>0.00</td>\n",
       "      <td>0.00</td>\n",
       "      <td>-0.083987</td>\n",
       "      <td>0.449144</td>\n",
       "      <td>1</td>\n",
       "      <td>6.065666</td>\n",
       "      <td>3.322012</td>\n",
       "      <td>1163232.0</td>\n",
       "      <td>2099.0</td>\n",
       "    </tr>\n",
       "    <tr>\n",
       "      <th>1</th>\n",
       "      <td>4.0</td>\n",
       "      <td>4.5</td>\n",
       "      <td>0.8</td>\n",
       "      <td>0.90</td>\n",
       "      <td>0.00</td>\n",
       "      <td>0.00</td>\n",
       "      <td>-0.083987</td>\n",
       "      <td>0.646570</td>\n",
       "      <td>1</td>\n",
       "      <td>4.906755</td>\n",
       "      <td>2.754348</td>\n",
       "      <td>80678.0</td>\n",
       "      <td>568.0</td>\n",
       "    </tr>\n",
       "    <tr>\n",
       "      <th>2</th>\n",
       "      <td>4.0</td>\n",
       "      <td>4.2</td>\n",
       "      <td>0.8</td>\n",
       "      <td>0.84</td>\n",
       "      <td>28521.45</td>\n",
       "      <td>137382.48</td>\n",
       "      <td>-0.083987</td>\n",
       "      <td>0.054292</td>\n",
       "      <td>1</td>\n",
       "      <td>4.138366</td>\n",
       "      <td>3.455606</td>\n",
       "      <td>13752.0</td>\n",
       "      <td>2855.0</td>\n",
       "    </tr>\n",
       "    <tr>\n",
       "      <th>3</th>\n",
       "      <td>3.5</td>\n",
       "      <td>4.2</td>\n",
       "      <td>0.7</td>\n",
       "      <td>0.84</td>\n",
       "      <td>0.00</td>\n",
       "      <td>0.00</td>\n",
       "      <td>-0.806018</td>\n",
       "      <td>0.054292</td>\n",
       "      <td>1</td>\n",
       "      <td>4.878206</td>\n",
       "      <td>4.222274</td>\n",
       "      <td>75545.0</td>\n",
       "      <td>16683.0</td>\n",
       "    </tr>\n",
       "    <tr>\n",
       "      <th>4</th>\n",
       "      <td>4.5</td>\n",
       "      <td>4.6</td>\n",
       "      <td>0.9</td>\n",
       "      <td>0.92</td>\n",
       "      <td>0.00</td>\n",
       "      <td>0.00</td>\n",
       "      <td>0.638043</td>\n",
       "      <td>0.843996</td>\n",
       "      <td>1</td>\n",
       "      <td>5.823814</td>\n",
       "      <td>3.994713</td>\n",
       "      <td>666521.0</td>\n",
       "      <td>9879.0</td>\n",
       "    </tr>\n",
       "  </tbody>\n",
       "</table>\n",
       "</div>"
      ],
      "text/plain": [
       "   apple_rating  google_rating  normed_apple_rating  normed_google_rating  \\\n",
       "0           4.0            4.4                  0.8                  0.88   \n",
       "1           4.0            4.5                  0.8                  0.90   \n",
       "2           4.0            4.2                  0.8                  0.84   \n",
       "3           3.5            4.2                  0.7                  0.84   \n",
       "4           4.5            4.6                  0.9                  0.92   \n",
       "\n",
       "   apple_revenue  google_revenue  z_score_apple_rating  z_score_google_rating  \\\n",
       "0           0.00            0.00             -0.083987               0.449144   \n",
       "1           0.00            0.00             -0.083987               0.646570   \n",
       "2       28521.45       137382.48             -0.083987               0.054292   \n",
       "3           0.00            0.00             -0.806018               0.054292   \n",
       "4           0.00            0.00              0.638043               0.843996   \n",
       "\n",
       "   app_num  log_google_reviews  log_apple_reviews  google_reviews  \\\n",
       "0        1            6.065666           3.322012       1163232.0   \n",
       "1        1            4.906755           2.754348         80678.0   \n",
       "2        1            4.138366           3.455606         13752.0   \n",
       "3        1            4.878206           4.222274         75545.0   \n",
       "4        1            5.823814           3.994713        666521.0   \n",
       "\n",
       "   apple_reviews  \n",
       "0         2099.0  \n",
       "1          568.0  \n",
       "2         2855.0  \n",
       "3        16683.0  \n",
       "4         9879.0  "
      ]
     },
     "execution_count": 2,
     "metadata": {},
     "output_type": "execute_result"
    }
   ],
   "source": [
    "if not exists(\"../../datasets/2400_combine_developer_datasets.csv\"):\n",
    "    print (\"Missing dataset file\")\n",
    "    \n",
    "df=pd.read_csv(\"../../datasets/2400_combine_developer_datasets.csv\")\n",
    "df.head()"
   ]
  },
  {
   "cell_type": "code",
   "execution_count": 3,
   "metadata": {},
   "outputs": [
    {
     "data": {
      "text/plain": [
       "count    4.440000e+02\n",
       "mean     1.514360e+06\n",
       "std      5.807573e+06\n",
       "min      2.400000e+01\n",
       "25%      3.487450e+04\n",
       "50%      1.676325e+05\n",
       "75%      9.859610e+05\n",
       "max      7.815831e+07\n",
       "Name: google_reviews, dtype: float64"
      ]
     },
     "execution_count": 3,
     "metadata": {},
     "output_type": "execute_result"
    }
   ],
   "source": [
    "df['google_reviews'].describe()"
   ]
  },
  {
   "cell_type": "code",
   "execution_count": 4,
   "metadata": {},
   "outputs": [
    {
     "data": {
      "text/plain": [
       "count    4.440000e+02\n",
       "mean     7.325633e+04\n",
       "std      2.066317e+05\n",
       "min      7.000000e+00\n",
       "25%      2.339250e+03\n",
       "50%      1.281500e+04\n",
       "75%      5.753400e+04\n",
       "max      2.974676e+06\n",
       "Name: apple_reviews, dtype: float64"
      ]
     },
     "execution_count": 4,
     "metadata": {},
     "output_type": "execute_result"
    }
   ],
   "source": [
    "df['apple_reviews'].describe()"
   ]
  },
  {
   "cell_type": "code",
   "execution_count": 5,
   "metadata": {},
   "outputs": [
    {
     "data": {
      "text/plain": [
       "<matplotlib.legend.Legend at 0x7fafd67b9278>"
      ]
     },
     "execution_count": 5,
     "metadata": {},
     "output_type": "execute_result"
    },
    {
     "data": {
      "image/png": "[encoded data removed]",
      "text/plain": [
       "<Figure size 1080x432 with 1 Axes>"
      ]
     },
     "metadata": {
      "needs_background": "light"
     },
     "output_type": "display_data"
    }
   ],
   "source": [
    "fig, ax = plt.subplots(figsize=(15, 6))\n",
    "\n",
    "min_val = 300\n",
    "max_val = 1.6e5\n",
    "df_reviews = df[(df['apple_reviews']>min_val) & (df['apple_reviews']<max_val)]\n",
    "df_reviews = df_reviews[(df_reviews['google_reviews']>min_val) & (df_reviews['google_reviews']<max_val)]\n",
    "\n",
    "df_reviews['apple_reviews'].hist(ax=ax, rwidth=.8, alpha=.5, bins=80, label='apple', color='blue')\n",
    "df_reviews['google_reviews'].hist(ax=ax, rwidth=.8, alpha=.5, bins=80, label='google', color='orange')\n",
    "\n",
    "apple_median = df_reviews['apple_reviews'].median()\n",
    "google_median = df_reviews['google_reviews'].median()\n",
    "ax.set_xlim(-10, max_val)\n",
    "#ax.set_ylim(1, 8)\n",
    "\n",
    "ax.axvline(apple_median, c='blue')\n",
    "ax.axvline(google_median, c='orange')\n",
    "\n",
    "ax.grid(False)\n",
    "ax.set_xlabel('Reviews')\n",
    "ax.set_ylabel('Count: Apple/Google')\n",
    "ax.legend()"
   ]
  },
  {
   "cell_type": "code",
   "execution_count": 6,
   "metadata": {},
   "outputs": [
    {
     "data": {
      "text/plain": [
       "<matplotlib.legend.Legend at 0x7fafd673dcf8>"
      ]
     },
     "execution_count": 6,
     "metadata": {},
     "output_type": "execute_result"
    },
    {
     "data": {
      "image/png": "[encoded data removed]",
      "text/plain": [
       "<Figure size 576x432 with 1 Axes>"
      ]
     },
     "metadata": {
      "needs_background": "light"
     },
     "output_type": "display_data"
    }
   ],
   "source": [
    "fig, ax = plt.subplots(figsize=(8, 6))\n",
    "\n",
    "df['log_apple_reviews'].hist(ax=ax, rwidth=.8, alpha=.33, bins=20, label='apple', color='blue')\n",
    "df['log_google_reviews'].hist(ax=ax, rwidth=.8, alpha=.33, bins=20, label='google', color='orange')\n",
    "\n",
    "apple_median = df['log_apple_reviews'].median()\n",
    "google_median = df['log_google_reviews'].median()\n",
    "\n",
    "ax.axvline(apple_median, c='blue')\n",
    "ax.axvline(google_median, c='orange')\n",
    "\n",
    "ax.grid(False)\n",
    "ax.set_xlabel('Log Reviews')\n",
    "ax.set_ylabel('Count: Apple/Google')\n",
    "ax.legend()"
   ]
  },
  {
   "cell_type": "code",
   "execution_count": 7,
   "metadata": {},
   "outputs": [
    {
     "name": "stderr",
     "output_type": "stream",
     "text": [
      "/home/eloise/anaconda3/lib/python3.6/site-packages/numpy/core/fromnumeric.py:2389: FutureWarning: Method .ptp is deprecated and will be removed in a future version. Use numpy.ptp instead.\n",
      "  return ptp(axis=axis, out=out, **kwargs)\n"
     ]
    },
    {
     "data": {
      "text/plain": [
       "Text(0, 0.5, 'Log Apple Reviews')"
      ]
     },
     "execution_count": 7,
     "metadata": {},
     "output_type": "execute_result"
    },
    {
     "data": {
      "image/png": "[encoded data removed]",
      "text/plain": [
       "<Figure size 432x432 with 1 Axes>"
      ]
     },
     "metadata": {
      "needs_background": "light"
     },
     "output_type": "display_data"
    }
   ],
   "source": [
    "fig, ax = plt.subplots(figsize=(6, 6))\n",
    "\n",
    "sns.regplot('log_google_reviews', 'log_apple_reviews', data=df[df['google_revenue'] > df['apple_revenue']], ax=ax,\n",
    "            truncate=True, fit_reg=False,\n",
    "            scatter_kws=dict(alpha=.6, color='blue', s=30))\n",
    "sns.regplot('log_google_reviews', 'log_apple_reviews', data=df[df['google_revenue'] < df['apple_revenue']], ax=ax,\n",
    "            truncate=True, fit_reg=False,\n",
    "            scatter_kws=dict(alpha=.6, color='orange', s=30))\n",
    "sns.regplot('log_google_reviews', 'log_apple_reviews', data=df[df['google_revenue'] == df['apple_revenue']], ax=ax,\n",
    "            truncate=True, fit_reg=False,\n",
    "            scatter_kws=dict(alpha=.6, color='grey', s=30))\n",
    "\n",
    "ax.set_xlim(1, 8)\n",
    "ax.set_ylim(1, 8)\n",
    "\n",
    "x = sm.add_constant(df['log_google_reviews'])\n",
    "y = df['log_apple_reviews']\n",
    "regr = sm.OLS(y, x)\n",
    "res = regr.fit()\n",
    "plt.plot([1,8],[res.params[0]+res.params[1],res.params[0]+res.params[1]*8], c='black')\n",
    "\n",
    "ax.set_xlabel('Log Google Reviews')\n",
    "ax.set_ylabel('Log Apple Reviews')"
   ]
  }
 ],
 "metadata": {
  "kernelspec": {
   "display_name": "Python 3",
   "language": "python",
   "name": "python3"
  },
  "language_info": {
   "codemirror_mode": {
    "name": "ipython",
    "version": 3
   },
   "file_extension": ".py",
   "mimetype": "text/x-python",
   "name": "python",
   "nbconvert_exporter": "python",
   "pygments_lexer": "ipython3",
   "version": "3.6.8"
  }
 },
 "nbformat": 4,
 "nbformat_minor": 2
}
