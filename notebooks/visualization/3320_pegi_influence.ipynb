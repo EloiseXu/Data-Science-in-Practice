{
 "cells": [
  {
   "cell_type": "markdown",
   "metadata": {},
   "source": [
    "Ratings analysis by app pegi rating\n",
    "\n",
    "Purpose This notebook will find out how an app's pegi rating influences this app's rating. Will apps be more likely to get higher ratings in google play when they have certain pegi ratings? Will some pegi ratings help apps get higher ratings in apple store?"
   ]
  },
  {
   "cell_type": "code",
   "execution_count": 1,
   "metadata": {},
   "outputs": [],
   "source": [
    "import math\n",
    "import pandas as pd\n",
    "import numpy as np\n",
    "\n",
    "from matplotlib.pylab import plt\n",
    "\n",
    "from os.path import exists, isfile"
   ]
  },
  {
   "cell_type": "markdown",
   "metadata": {},
   "source": [
    "Load datasets"
   ]
  },
  {
   "cell_type": "code",
   "execution_count": 2,
   "metadata": {},
   "outputs": [
    {
     "data": {
      "text/html": [
       "<div>\n",
       "<style scoped>\n",
       "    .dataframe tbody tr th:only-of-type {\n",
       "        vertical-align: middle;\n",
       "    }\n",
       "\n",
       "    .dataframe tbody tr th {\n",
       "        vertical-align: top;\n",
       "    }\n",
       "\n",
       "    .dataframe thead th {\n",
       "        text-align: right;\n",
       "    }\n",
       "</style>\n",
       "<table border=\"1\" class=\"dataframe\">\n",
       "  <thead>\n",
       "    <tr style=\"text-align: right;\">\n",
       "      <th></th>\n",
       "      <th>google_title</th>\n",
       "      <th>google_genre</th>\n",
       "      <th>google_rating</th>\n",
       "      <th>google_reviews</th>\n",
       "      <th>google_size</th>\n",
       "      <th>google_price</th>\n",
       "      <th>google_pegi</th>\n",
       "      <th>log_google_reviews</th>\n",
       "      <th>normed_google_rating</th>\n",
       "      <th>z_score_google</th>\n",
       "    </tr>\n",
       "  </thead>\n",
       "  <tbody>\n",
       "    <tr>\n",
       "      <th>0</th>\n",
       "      <td>Photo Editor &amp; Candy Camera &amp; Grid &amp; ScrapBook</td>\n",
       "      <td>Utilities</td>\n",
       "      <td>4.1</td>\n",
       "      <td>159</td>\n",
       "      <td>19.0</td>\n",
       "      <td>0.0</td>\n",
       "      <td>Everyone</td>\n",
       "      <td>2.201397</td>\n",
       "      <td>0.82</td>\n",
       "      <td>-0.143135</td>\n",
       "    </tr>\n",
       "    <tr>\n",
       "      <th>1</th>\n",
       "      <td>Coloring book moana</td>\n",
       "      <td>Utilities</td>\n",
       "      <td>3.9</td>\n",
       "      <td>967</td>\n",
       "      <td>14.0</td>\n",
       "      <td>0.0</td>\n",
       "      <td>Everyone</td>\n",
       "      <td>2.985426</td>\n",
       "      <td>0.78</td>\n",
       "      <td>-0.537987</td>\n",
       "    </tr>\n",
       "    <tr>\n",
       "      <th>2</th>\n",
       "      <td>U Launcher Lite – FREE Live Cool Themes, Hide ...</td>\n",
       "      <td>Utilities</td>\n",
       "      <td>4.7</td>\n",
       "      <td>87510</td>\n",
       "      <td>8.7</td>\n",
       "      <td>0.0</td>\n",
       "      <td>Everyone</td>\n",
       "      <td>4.942058</td>\n",
       "      <td>0.94</td>\n",
       "      <td>1.041422</td>\n",
       "    </tr>\n",
       "    <tr>\n",
       "      <th>3</th>\n",
       "      <td>Sketch - Draw &amp; Paint</td>\n",
       "      <td>Utilities</td>\n",
       "      <td>4.5</td>\n",
       "      <td>215644</td>\n",
       "      <td>25.0</td>\n",
       "      <td>0.0</td>\n",
       "      <td>Teen</td>\n",
       "      <td>5.333737</td>\n",
       "      <td>0.90</td>\n",
       "      <td>0.646570</td>\n",
       "    </tr>\n",
       "    <tr>\n",
       "      <th>4</th>\n",
       "      <td>Pixel Draw - Number Art Coloring Book</td>\n",
       "      <td>Utilities</td>\n",
       "      <td>4.3</td>\n",
       "      <td>967</td>\n",
       "      <td>2.8</td>\n",
       "      <td>0.0</td>\n",
       "      <td>Everyone</td>\n",
       "      <td>2.985426</td>\n",
       "      <td>0.86</td>\n",
       "      <td>0.251718</td>\n",
       "    </tr>\n",
       "  </tbody>\n",
       "</table>\n",
       "</div>"
      ],
      "text/plain": [
       "                                        google_title google_genre  \\\n",
       "0     Photo Editor & Candy Camera & Grid & ScrapBook    Utilities   \n",
       "1                                Coloring book moana    Utilities   \n",
       "2  U Launcher Lite – FREE Live Cool Themes, Hide ...    Utilities   \n",
       "3                              Sketch - Draw & Paint    Utilities   \n",
       "4              Pixel Draw - Number Art Coloring Book    Utilities   \n",
       "\n",
       "   google_rating  google_reviews  google_size  google_price google_pegi  \\\n",
       "0            4.1             159         19.0           0.0    Everyone   \n",
       "1            3.9             967         14.0           0.0    Everyone   \n",
       "2            4.7           87510          8.7           0.0    Everyone   \n",
       "3            4.5          215644         25.0           0.0        Teen   \n",
       "4            4.3             967          2.8           0.0    Everyone   \n",
       "\n",
       "   log_google_reviews  normed_google_rating  z_score_google  \n",
       "0            2.201397                  0.82       -0.143135  \n",
       "1            2.985426                  0.78       -0.537987  \n",
       "2            4.942058                  0.94        1.041422  \n",
       "3            5.333737                  0.90        0.646570  \n",
       "4            2.985426                  0.86        0.251718  "
      ]
     },
     "execution_count": 2,
     "metadata": {},
     "output_type": "execute_result"
    }
   ],
   "source": [
    "if not exists(\"../../datasets/2100_clean_google.csv\"):\n",
    "    print (\"Missing dataset file\")\n",
    "    \n",
    "df_google=pd.read_csv(\"../../datasets/2100_clean_google.csv\")\n",
    "df_google.head()"
   ]
  },
  {
   "cell_type": "code",
   "execution_count": 3,
   "metadata": {},
   "outputs": [
    {
     "data": {
      "text/html": [
       "<div>\n",
       "<style scoped>\n",
       "    .dataframe tbody tr th:only-of-type {\n",
       "        vertical-align: middle;\n",
       "    }\n",
       "\n",
       "    .dataframe tbody tr th {\n",
       "        vertical-align: top;\n",
       "    }\n",
       "\n",
       "    .dataframe thead th {\n",
       "        text-align: right;\n",
       "    }\n",
       "</style>\n",
       "<table border=\"1\" class=\"dataframe\">\n",
       "  <thead>\n",
       "    <tr style=\"text-align: right;\">\n",
       "      <th></th>\n",
       "      <th>apple_id</th>\n",
       "      <th>apple_title</th>\n",
       "      <th>apple_size</th>\n",
       "      <th>apple_price</th>\n",
       "      <th>apple_reviews</th>\n",
       "      <th>apple_rating</th>\n",
       "      <th>apple_pegi</th>\n",
       "      <th>apple_genre</th>\n",
       "      <th>normed_apple_rating</th>\n",
       "      <th>z_score_apple</th>\n",
       "      <th>log_apple_reviews</th>\n",
       "    </tr>\n",
       "  </thead>\n",
       "  <tbody>\n",
       "    <tr>\n",
       "      <th>0</th>\n",
       "      <td>281656475</td>\n",
       "      <td>PAC-MAN Premium</td>\n",
       "      <td>96.119141</td>\n",
       "      <td>3.99</td>\n",
       "      <td>21292</td>\n",
       "      <td>4.0</td>\n",
       "      <td>Everyone</td>\n",
       "      <td>Games</td>\n",
       "      <td>0.8</td>\n",
       "      <td>-0.083987</td>\n",
       "      <td>4.328216</td>\n",
       "    </tr>\n",
       "    <tr>\n",
       "      <th>1</th>\n",
       "      <td>281796108</td>\n",
       "      <td>Evernote - stay organized</td>\n",
       "      <td>151.232422</td>\n",
       "      <td>0.00</td>\n",
       "      <td>161065</td>\n",
       "      <td>4.0</td>\n",
       "      <td>Everyone</td>\n",
       "      <td>Business</td>\n",
       "      <td>0.8</td>\n",
       "      <td>-0.083987</td>\n",
       "      <td>5.207001</td>\n",
       "    </tr>\n",
       "    <tr>\n",
       "      <th>2</th>\n",
       "      <td>281940292</td>\n",
       "      <td>WeatherBug - Local Weather, Radar, Maps, Alerts</td>\n",
       "      <td>95.867188</td>\n",
       "      <td>0.00</td>\n",
       "      <td>188583</td>\n",
       "      <td>3.5</td>\n",
       "      <td>Everyone</td>\n",
       "      <td>Others</td>\n",
       "      <td>0.7</td>\n",
       "      <td>-0.806018</td>\n",
       "      <td>5.275503</td>\n",
       "    </tr>\n",
       "    <tr>\n",
       "      <th>3</th>\n",
       "      <td>282614216</td>\n",
       "      <td>eBay: Best App to Buy, Sell, Save! Online Shop...</td>\n",
       "      <td>122.558594</td>\n",
       "      <td>0.00</td>\n",
       "      <td>262241</td>\n",
       "      <td>4.0</td>\n",
       "      <td>Teen</td>\n",
       "      <td>Lifestyle</td>\n",
       "      <td>0.8</td>\n",
       "      <td>-0.083987</td>\n",
       "      <td>5.418701</td>\n",
       "    </tr>\n",
       "    <tr>\n",
       "      <th>4</th>\n",
       "      <td>282935706</td>\n",
       "      <td>Bible</td>\n",
       "      <td>88.476562</td>\n",
       "      <td>0.00</td>\n",
       "      <td>985920</td>\n",
       "      <td>4.5</td>\n",
       "      <td>Everyone</td>\n",
       "      <td>Books &amp; Reference</td>\n",
       "      <td>0.9</td>\n",
       "      <td>0.638043</td>\n",
       "      <td>5.993842</td>\n",
       "    </tr>\n",
       "  </tbody>\n",
       "</table>\n",
       "</div>"
      ],
      "text/plain": [
       "    apple_id                                        apple_title  apple_size  \\\n",
       "0  281656475                                    PAC-MAN Premium   96.119141   \n",
       "1  281796108                          Evernote - stay organized  151.232422   \n",
       "2  281940292    WeatherBug - Local Weather, Radar, Maps, Alerts   95.867188   \n",
       "3  282614216  eBay: Best App to Buy, Sell, Save! Online Shop...  122.558594   \n",
       "4  282935706                                              Bible   88.476562   \n",
       "\n",
       "   apple_price  apple_reviews  apple_rating apple_pegi        apple_genre  \\\n",
       "0         3.99          21292           4.0   Everyone              Games   \n",
       "1         0.00         161065           4.0   Everyone           Business   \n",
       "2         0.00         188583           3.5   Everyone             Others   \n",
       "3         0.00         262241           4.0       Teen          Lifestyle   \n",
       "4         0.00         985920           4.5   Everyone  Books & Reference   \n",
       "\n",
       "   normed_apple_rating  z_score_apple  log_apple_reviews  \n",
       "0                  0.8      -0.083987           4.328216  \n",
       "1                  0.8      -0.083987           5.207001  \n",
       "2                  0.7      -0.806018           5.275503  \n",
       "3                  0.8      -0.083987           5.418701  \n",
       "4                  0.9       0.638043           5.993842  "
      ]
     },
     "execution_count": 3,
     "metadata": {},
     "output_type": "execute_result"
    }
   ],
   "source": [
    "if not exists(\"../../datasets/2200_clean_apple.csv\"):\n",
    "    print (\"Missing dataset file\")\n",
    "    \n",
    "df_apple=pd.read_csv(\"../../datasets/2200_clean_apple.csv\")\n",
    "df_apple.head()"
   ]
  },
  {
   "cell_type": "markdown",
   "metadata": {},
   "source": [
    "The frequency of different app pegi ratings.\n",
    "\n",
    "This chart shows the proportion of each pegi rating in quantity."
   ]
  },
  {
   "cell_type": "code",
   "execution_count": 4,
   "metadata": {},
   "outputs": [
    {
     "data": {
      "text/plain": [
       "(array([0, 1, 2, 3]), <a list of 4 Text xticklabel objects>)"
      ]
     },
     "execution_count": 4,
     "metadata": {},
     "output_type": "execute_result"
    },
    {
     "data": {
      "image/png": "[encoded data removed]",
      "text/plain": [
       "<Figure size 1080x432 with 1 Axes>"
      ]
     },
     "metadata": {
      "needs_background": "light"
     },
     "output_type": "display_data"
    }
   ],
   "source": [
    "fig, ax = plt.subplots(figsize=(15, 6))\n",
    "\n",
    "google_genre = df_google[df_google['google_pegi'] != 'Unrated'].groupby('google_pegi')['google_pegi'].count() / df_google['google_pegi'].count()\n",
    "apple_genre = df_apple[df_apple['apple_pegi'] != 'Unrated'].groupby('apple_pegi')['apple_pegi'].count() / df_apple['apple_pegi'].count()\n",
    "df_genre =pd.concat([google_genre, apple_genre],axis=1)\n",
    "\n",
    "df_genre.plot(y = ['google_pegi', 'apple_pegi'], kind = 'bar', ax = ax)\n",
    "\n",
    "\n",
    "ax.set_ylabel('Frequency')\n",
    "ax.set_xlabel('Pegi')\n",
    "plt.xticks(rotation=(-60), fontsize=12)"
   ]
  },
  {
   "cell_type": "markdown",
   "metadata": {},
   "source": [
    "Load dataset: common apps"
   ]
  },
  {
   "cell_type": "code",
   "execution_count": 5,
   "metadata": {},
   "outputs": [
    {
     "data": {
      "text/html": [
       "<div>\n",
       "<style scoped>\n",
       "    .dataframe tbody tr th:only-of-type {\n",
       "        vertical-align: middle;\n",
       "    }\n",
       "\n",
       "    .dataframe tbody tr th {\n",
       "        vertical-align: top;\n",
       "    }\n",
       "\n",
       "    .dataframe thead th {\n",
       "        text-align: right;\n",
       "    }\n",
       "</style>\n",
       "<table border=\"1\" class=\"dataframe\">\n",
       "  <thead>\n",
       "    <tr style=\"text-align: right;\">\n",
       "      <th></th>\n",
       "      <th>apple_id</th>\n",
       "      <th>trim_title</th>\n",
       "      <th>apple_title</th>\n",
       "      <th>genre</th>\n",
       "      <th>apple_rating</th>\n",
       "      <th>apple_reviews</th>\n",
       "      <th>apple_size</th>\n",
       "      <th>pegi</th>\n",
       "      <th>normed_apple_rating</th>\n",
       "      <th>google_title</th>\n",
       "      <th>...</th>\n",
       "      <th>log_google_reviews</th>\n",
       "      <th>log_apple_reviews</th>\n",
       "      <th>z_score_google_rating</th>\n",
       "      <th>z_score_apple_rating</th>\n",
       "      <th>z_score_google_sub_apple</th>\n",
       "      <th>norm_google_sub_apple</th>\n",
       "      <th>google_revenue</th>\n",
       "      <th>apple_revenue</th>\n",
       "      <th>log_google_revenue</th>\n",
       "      <th>log_apple_revenue</th>\n",
       "    </tr>\n",
       "  </thead>\n",
       "  <tbody>\n",
       "    <tr>\n",
       "      <th>0</th>\n",
       "      <td>898968647</td>\n",
       "      <td>Call of Duty®</td>\n",
       "      <td>Call of Duty®: Heroes</td>\n",
       "      <td>Games</td>\n",
       "      <td>4.5</td>\n",
       "      <td>179416</td>\n",
       "      <td>201.075195</td>\n",
       "      <td>Teen</td>\n",
       "      <td>0.9</td>\n",
       "      <td>Call of Duty®: Heroes</td>\n",
       "      <td>...</td>\n",
       "      <td>6.205244</td>\n",
       "      <td>5.253861</td>\n",
       "      <td>0.449144</td>\n",
       "      <td>0.638043</td>\n",
       "      <td>-0.188899</td>\n",
       "      <td>-0.02</td>\n",
       "      <td>0.00</td>\n",
       "      <td>0.00</td>\n",
       "      <td>NaN</td>\n",
       "      <td>NaN</td>\n",
       "    </tr>\n",
       "    <tr>\n",
       "      <th>1</th>\n",
       "      <td>1147297267</td>\n",
       "      <td>Dont Starve</td>\n",
       "      <td>Don't Starve: Shipwrecked</td>\n",
       "      <td>Games</td>\n",
       "      <td>3.5</td>\n",
       "      <td>495</td>\n",
       "      <td>604.341797</td>\n",
       "      <td>Everyone 10+</td>\n",
       "      <td>0.7</td>\n",
       "      <td>Don't Starve: Shipwrecked</td>\n",
       "      <td>...</td>\n",
       "      <td>3.166726</td>\n",
       "      <td>2.694605</td>\n",
       "      <td>-0.143135</td>\n",
       "      <td>-0.806018</td>\n",
       "      <td>0.662884</td>\n",
       "      <td>0.12</td>\n",
       "      <td>7325.32</td>\n",
       "      <td>2470.05</td>\n",
       "      <td>3.864827</td>\n",
       "      <td>3.392706</td>\n",
       "    </tr>\n",
       "    <tr>\n",
       "      <th>2</th>\n",
       "      <td>352670055</td>\n",
       "      <td>F</td>\n",
       "      <td>F-Sim Space Shuttle</td>\n",
       "      <td>Games</td>\n",
       "      <td>4.5</td>\n",
       "      <td>6403</td>\n",
       "      <td>72.855469</td>\n",
       "      <td>Everyone</td>\n",
       "      <td>0.9</td>\n",
       "      <td>F-Sim Space Shuttle</td>\n",
       "      <td>...</td>\n",
       "      <td>3.734560</td>\n",
       "      <td>3.806384</td>\n",
       "      <td>0.449144</td>\n",
       "      <td>0.638043</td>\n",
       "      <td>-0.188899</td>\n",
       "      <td>-0.02</td>\n",
       "      <td>27080.73</td>\n",
       "      <td>31950.97</td>\n",
       "      <td>4.432660</td>\n",
       "      <td>4.504484</td>\n",
       "    </tr>\n",
       "    <tr>\n",
       "      <th>3</th>\n",
       "      <td>763692274</td>\n",
       "      <td>Grand Theft Auto</td>\n",
       "      <td>Grand Theft Auto: San Andreas</td>\n",
       "      <td>Games</td>\n",
       "      <td>4.0</td>\n",
       "      <td>32533</td>\n",
       "      <td>1964.965820</td>\n",
       "      <td>Mature 17+</td>\n",
       "      <td>0.8</td>\n",
       "      <td>Grand Theft Auto: San Andreas</td>\n",
       "      <td>...</td>\n",
       "      <td>5.542778</td>\n",
       "      <td>4.512324</td>\n",
       "      <td>0.449144</td>\n",
       "      <td>-0.083987</td>\n",
       "      <td>0.533131</td>\n",
       "      <td>0.08</td>\n",
       "      <td>2439244.38</td>\n",
       "      <td>227405.67</td>\n",
       "      <td>6.387255</td>\n",
       "      <td>5.356801</td>\n",
       "    </tr>\n",
       "    <tr>\n",
       "      <th>4</th>\n",
       "      <td>771989093</td>\n",
       "      <td>LEGO® Friends</td>\n",
       "      <td>LEGO® Friends</td>\n",
       "      <td>Games</td>\n",
       "      <td>4.0</td>\n",
       "      <td>400</td>\n",
       "      <td>730.941406</td>\n",
       "      <td>Everyone</td>\n",
       "      <td>0.8</td>\n",
       "      <td>LEGO® Friends</td>\n",
       "      <td>...</td>\n",
       "      <td>2.931458</td>\n",
       "      <td>2.602060</td>\n",
       "      <td>0.449144</td>\n",
       "      <td>-0.083987</td>\n",
       "      <td>0.533131</td>\n",
       "      <td>0.08</td>\n",
       "      <td>4261.46</td>\n",
       "      <td>1996.00</td>\n",
       "      <td>3.629558</td>\n",
       "      <td>3.300161</td>\n",
       "    </tr>\n",
       "  </tbody>\n",
       "</table>\n",
       "<p>5 rows × 25 columns</p>\n",
       "</div>"
      ],
      "text/plain": [
       "     apple_id        trim_title                    apple_title  genre  \\\n",
       "0   898968647     Call of Duty®          Call of Duty®: Heroes  Games   \n",
       "1  1147297267       Dont Starve      Don't Starve: Shipwrecked  Games   \n",
       "2   352670055                 F            F-Sim Space Shuttle  Games   \n",
       "3   763692274  Grand Theft Auto  Grand Theft Auto: San Andreas  Games   \n",
       "4   771989093     LEGO® Friends                  LEGO® Friends  Games   \n",
       "\n",
       "   apple_rating  apple_reviews   apple_size          pegi  \\\n",
       "0           4.5         179416   201.075195          Teen   \n",
       "1           3.5            495   604.341797  Everyone 10+   \n",
       "2           4.5           6403    72.855469      Everyone   \n",
       "3           4.0          32533  1964.965820    Mature 17+   \n",
       "4           4.0            400   730.941406      Everyone   \n",
       "\n",
       "   normed_apple_rating                   google_title  ...  \\\n",
       "0                  0.9          Call of Duty®: Heroes  ...   \n",
       "1                  0.7      Don't Starve: Shipwrecked  ...   \n",
       "2                  0.9            F-Sim Space Shuttle  ...   \n",
       "3                  0.8  Grand Theft Auto: San Andreas  ...   \n",
       "4                  0.8                  LEGO® Friends  ...   \n",
       "\n",
       "   log_google_reviews  log_apple_reviews  z_score_google_rating  \\\n",
       "0            6.205244           5.253861               0.449144   \n",
       "1            3.166726           2.694605              -0.143135   \n",
       "2            3.734560           3.806384               0.449144   \n",
       "3            5.542778           4.512324               0.449144   \n",
       "4            2.931458           2.602060               0.449144   \n",
       "\n",
       "   z_score_apple_rating  z_score_google_sub_apple  norm_google_sub_apple  \\\n",
       "0              0.638043                 -0.188899                  -0.02   \n",
       "1             -0.806018                  0.662884                   0.12   \n",
       "2              0.638043                 -0.188899                  -0.02   \n",
       "3             -0.083987                  0.533131                   0.08   \n",
       "4             -0.083987                  0.533131                   0.08   \n",
       "\n",
       "   google_revenue  apple_revenue  log_google_revenue  log_apple_revenue  \n",
       "0            0.00           0.00                 NaN                NaN  \n",
       "1         7325.32        2470.05            3.864827           3.392706  \n",
       "2        27080.73       31950.97            4.432660           4.504484  \n",
       "3      2439244.38      227405.67            6.387255           5.356801  \n",
       "4         4261.46        1996.00            3.629558           3.300161  \n",
       "\n",
       "[5 rows x 25 columns]"
      ]
     },
     "execution_count": 5,
     "metadata": {},
     "output_type": "execute_result"
    }
   ],
   "source": [
    "if not exists(\"../../datasets/2300_combine_kaggle_datasets.csv\"):\n",
    "    print (\"Missing dataset file\")\n",
    "    \n",
    "df=pd.read_csv(\"../../datasets/2300_combine_kaggle_datasets.csv\")\n",
    "df.head()"
   ]
  },
  {
   "cell_type": "markdown",
   "metadata": {},
   "source": [
    "Compare the normalized ratings and z score ratings of apps"
   ]
  },
  {
   "cell_type": "code",
   "execution_count": 6,
   "metadata": {},
   "outputs": [
    {
     "data": {
      "text/plain": [
       "(array([0, 1, 2, 3]), <a list of 4 Text xticklabel objects>)"
      ]
     },
     "execution_count": 6,
     "metadata": {},
     "output_type": "execute_result"
    },
    {
     "data": {
      "image/png": "[encoded data removed]",
      "text/plain": [
       "<Figure size 1080x432 with 1 Axes>"
      ]
     },
     "metadata": {
      "needs_background": "light"
     },
     "output_type": "display_data"
    }
   ],
   "source": [
    "fig, ax = plt.subplots(figsize=(15, 6))\n",
    "\n",
    "google_genre = df[df['pegi'] != 'Unrated'].groupby('pegi')['normed_google_rating'].mean()\n",
    "apple_genre = df[df['pegi'] != 'Unrated'].groupby('pegi')['normed_apple_rating'].mean()\n",
    "df_genre =pd.concat([google_genre, apple_genre],axis=1)\n",
    "\n",
    "df_genre.plot(y = ['normed_google_rating', 'normed_apple_rating'], kind = 'bar', ax = ax)\n",
    "\n",
    "ax.set_ylabel('Normalized Rating')\n",
    "ax.set_xlabel('Pegi')\n",
    "plt.xticks(rotation=(-60), fontsize=12)"
   ]
  },
  {
   "cell_type": "code",
   "execution_count": 7,
   "metadata": {},
   "outputs": [
    {
     "data": {
      "text/plain": [
       "(array([0, 1, 2, 3]), <a list of 4 Text xticklabel objects>)"
      ]
     },
     "execution_count": 7,
     "metadata": {},
     "output_type": "execute_result"
    },
    {
     "data": {
      "image/png": "[encoded data removed]",
      "text/plain": [
       "<Figure size 1080x432 with 1 Axes>"
      ]
     },
     "metadata": {
      "needs_background": "light"
     },
     "output_type": "display_data"
    }
   ],
   "source": [
    "fig, ax = plt.subplots(figsize=(15, 6))\n",
    "\n",
    "google_genre = df[df['pegi'] != 'Unrated'].groupby('pegi')['z_score_google_rating'].mean()\n",
    "apple_genre = df[df['pegi'] != 'Unrated'].groupby('pegi')['z_score_apple_rating'].mean()\n",
    "df_genre =pd.concat([google_genre, apple_genre],axis=1)\n",
    "\n",
    "df_genre.plot(y = ['z_score_google_rating', 'z_score_apple_rating'], kind = 'bar', ax = ax)\n",
    "\n",
    "ax.axhline(c='k')\n",
    "\n",
    "ax.set_ylabel('Z score')\n",
    "ax.set_xlabel('Pegi')\n",
    "plt.xticks(rotation=(-60), fontsize=12)"
   ]
  },
  {
   "cell_type": "markdown",
   "metadata": {},
   "source": [
    "Fraction of apps with higher ratings on google play than on apple store."
   ]
  },
  {
   "cell_type": "code",
   "execution_count": 8,
   "metadata": {},
   "outputs": [],
   "source": [
    "df['fraction_z_score'] = df['z_score_google_sub_apple'] > 0\n",
    "df['fraction_norm'] = df['norm_google_sub_apple'] > 0"
   ]
  },
  {
   "cell_type": "code",
   "execution_count": 9,
   "metadata": {},
   "outputs": [
    {
     "data": {
      "text/plain": [
       "Text(0.5, 0, 'Pegi')"
      ]
     },
     "execution_count": 9,
     "metadata": {},
     "output_type": "execute_result"
    },
    {
     "data": {
      "image/png": "[encoded data removed]",
      "text/plain": [
       "<Figure size 1080x432 with 2 Axes>"
      ]
     },
     "metadata": {
      "needs_background": "light"
     },
     "output_type": "display_data"
    }
   ],
   "source": [
    "fig, (ax, bx) = plt.subplots(1,2,figsize=(15, 6))\n",
    "\n",
    "fraction_df = df.groupby(['pegi'])['fraction_z_score'].mean().sort_values()\n",
    "fraction_df.plot(kind='bar', ax=ax)\n",
    "\n",
    "ax.axhline(0.5, c='k')\n",
    "\n",
    "ax.set_ylabel('Fraction: Google z score > Apple z score')\n",
    "ax.set_xlabel('Pegi')\n",
    "\n",
    "mean_df = df.groupby(['pegi'])['fraction_norm'].mean().sort_values()\n",
    "fraction_df.plot(kind='bar', ax=bx)\n",
    "\n",
    "bx.axhline(0.5, c='k')\n",
    "\n",
    "bx.set_ylabel('Fraction: Google normalized rating > Apple normalized rating')\n",
    "bx.set_xlabel('Pegi')"
   ]
  },
  {
   "cell_type": "markdown",
   "metadata": {},
   "source": [
    "The average difference between an app's rating on google play and on apple store"
   ]
  },
  {
   "cell_type": "code",
   "execution_count": 10,
   "metadata": {},
   "outputs": [
    {
     "data": {
      "text/plain": [
       "Text(0.5, 0, 'Pegi')"
      ]
     },
     "execution_count": 10,
     "metadata": {},
     "output_type": "execute_result"
    },
    {
     "data": {
      "image/png": "[encoded data removed]",
      "text/plain": [
       "<Figure size 1080x432 with 2 Axes>"
      ]
     },
     "metadata": {
      "needs_background": "light"
     },
     "output_type": "display_data"
    }
   ],
   "source": [
    "fig, (ax, bx) = plt.subplots(1,2,figsize=(15, 6))\n",
    "\n",
    "fraction_df = df.groupby(['pegi'])['z_score_google_sub_apple'].mean().sort_values()\n",
    "fraction_df.plot(kind='bar', ax=ax)\n",
    "\n",
    "ax.set_ylabel('Google z score - Apple z score')\n",
    "ax.set_xlabel('Pegi')\n",
    "\n",
    "fraction_df = df.groupby(['pegi'])['norm_google_sub_apple'].mean().sort_values()\n",
    "fraction_df.plot(kind='bar', ax=bx)\n",
    "\n",
    "bx.set_ylabel('Google normalized rating - Apple normalized rating')\n",
    "bx.set_xlabel('Pegi')"
   ]
  }
 ],
 "metadata": {
  "kernelspec": {
   "display_name": "Python 3",
   "language": "python",
   "name": "python3"
  },
  "language_info": {
   "codemirror_mode": {
    "name": "ipython",
    "version": 3
   },
   "file_extension": ".py",
   "mimetype": "text/x-python",
   "name": "python",
   "nbconvert_exporter": "python",
   "pygments_lexer": "ipython3",
   "version": "3.6.8"
  }
 },
 "nbformat": 4,
 "nbformat_minor": 2
}
