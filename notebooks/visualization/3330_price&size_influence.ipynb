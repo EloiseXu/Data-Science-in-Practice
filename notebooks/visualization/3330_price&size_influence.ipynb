{
 "cells": [
  {
   "cell_type": "markdown",
   "metadata": {},
   "source": [
    "Ratings & revenues analysis by app size and app price\n",
    "\n",
    "Purpose \n",
    "This notebook will find out how an app's size and price influence an app's rating and revenue. Will apps be more likely to get higher ratings or revenues in google play when they have certain genres? Will some genres help apps get higher ratings or revenues in apple store?"
   ]
  },
  {
   "cell_type": "code",
   "execution_count": 1,
   "metadata": {},
   "outputs": [],
   "source": [
    "import math\n",
    "import pandas as pd\n",
    "import numpy as np\n",
    "\n",
    "from matplotlib.pylab import plt\n",
    "import seaborn as sns\n",
    "\n",
    "from os.path import exists, isfile"
   ]
  },
  {
   "cell_type": "markdown",
   "metadata": {},
   "source": [
    "Load datasets"
   ]
  },
  {
   "cell_type": "code",
   "execution_count": 2,
   "metadata": {},
   "outputs": [
    {
     "data": {
      "text/html": [
       "<div>\n",
       "<style scoped>\n",
       "    .dataframe tbody tr th:only-of-type {\n",
       "        vertical-align: middle;\n",
       "    }\n",
       "\n",
       "    .dataframe tbody tr th {\n",
       "        vertical-align: top;\n",
       "    }\n",
       "\n",
       "    .dataframe thead th {\n",
       "        text-align: right;\n",
       "    }\n",
       "</style>\n",
       "<table border=\"1\" class=\"dataframe\">\n",
       "  <thead>\n",
       "    <tr style=\"text-align: right;\">\n",
       "      <th></th>\n",
       "      <th>apple_id</th>\n",
       "      <th>trim_title</th>\n",
       "      <th>apple_title</th>\n",
       "      <th>genre</th>\n",
       "      <th>apple_rating</th>\n",
       "      <th>apple_reviews</th>\n",
       "      <th>apple_size</th>\n",
       "      <th>pegi</th>\n",
       "      <th>normed_apple_rating</th>\n",
       "      <th>google_title</th>\n",
       "      <th>...</th>\n",
       "      <th>log_google_reviews</th>\n",
       "      <th>log_apple_reviews</th>\n",
       "      <th>z_score_google_rating</th>\n",
       "      <th>z_score_apple_rating</th>\n",
       "      <th>z_score_google_sub_apple</th>\n",
       "      <th>norm_google_sub_apple</th>\n",
       "      <th>google_revenue</th>\n",
       "      <th>apple_revenue</th>\n",
       "      <th>log_google_revenue</th>\n",
       "      <th>log_apple_revenue</th>\n",
       "    </tr>\n",
       "  </thead>\n",
       "  <tbody>\n",
       "    <tr>\n",
       "      <th>0</th>\n",
       "      <td>898968647</td>\n",
       "      <td>Call of Duty®</td>\n",
       "      <td>Call of Duty®: Heroes</td>\n",
       "      <td>Games</td>\n",
       "      <td>4.5</td>\n",
       "      <td>179416</td>\n",
       "      <td>201.075195</td>\n",
       "      <td>Teen</td>\n",
       "      <td>0.9</td>\n",
       "      <td>Call of Duty®: Heroes</td>\n",
       "      <td>...</td>\n",
       "      <td>6.205244</td>\n",
       "      <td>5.253861</td>\n",
       "      <td>0.449144</td>\n",
       "      <td>0.638043</td>\n",
       "      <td>-0.188899</td>\n",
       "      <td>-0.02</td>\n",
       "      <td>0.00</td>\n",
       "      <td>0.00</td>\n",
       "      <td>NaN</td>\n",
       "      <td>NaN</td>\n",
       "    </tr>\n",
       "    <tr>\n",
       "      <th>1</th>\n",
       "      <td>1147297267</td>\n",
       "      <td>Dont Starve</td>\n",
       "      <td>Don't Starve: Shipwrecked</td>\n",
       "      <td>Games</td>\n",
       "      <td>3.5</td>\n",
       "      <td>495</td>\n",
       "      <td>604.341797</td>\n",
       "      <td>Everyone 10+</td>\n",
       "      <td>0.7</td>\n",
       "      <td>Don't Starve: Shipwrecked</td>\n",
       "      <td>...</td>\n",
       "      <td>3.166726</td>\n",
       "      <td>2.694605</td>\n",
       "      <td>-0.143135</td>\n",
       "      <td>-0.806018</td>\n",
       "      <td>0.662884</td>\n",
       "      <td>0.12</td>\n",
       "      <td>7325.32</td>\n",
       "      <td>2470.05</td>\n",
       "      <td>3.864827</td>\n",
       "      <td>3.392706</td>\n",
       "    </tr>\n",
       "    <tr>\n",
       "      <th>2</th>\n",
       "      <td>352670055</td>\n",
       "      <td>F</td>\n",
       "      <td>F-Sim Space Shuttle</td>\n",
       "      <td>Games</td>\n",
       "      <td>4.5</td>\n",
       "      <td>6403</td>\n",
       "      <td>72.855469</td>\n",
       "      <td>Everyone</td>\n",
       "      <td>0.9</td>\n",
       "      <td>F-Sim Space Shuttle</td>\n",
       "      <td>...</td>\n",
       "      <td>3.734560</td>\n",
       "      <td>3.806384</td>\n",
       "      <td>0.449144</td>\n",
       "      <td>0.638043</td>\n",
       "      <td>-0.188899</td>\n",
       "      <td>-0.02</td>\n",
       "      <td>27080.73</td>\n",
       "      <td>31950.97</td>\n",
       "      <td>4.432660</td>\n",
       "      <td>4.504484</td>\n",
       "    </tr>\n",
       "    <tr>\n",
       "      <th>3</th>\n",
       "      <td>763692274</td>\n",
       "      <td>Grand Theft Auto</td>\n",
       "      <td>Grand Theft Auto: San Andreas</td>\n",
       "      <td>Games</td>\n",
       "      <td>4.0</td>\n",
       "      <td>32533</td>\n",
       "      <td>1964.965820</td>\n",
       "      <td>Mature 17+</td>\n",
       "      <td>0.8</td>\n",
       "      <td>Grand Theft Auto: San Andreas</td>\n",
       "      <td>...</td>\n",
       "      <td>5.542778</td>\n",
       "      <td>4.512324</td>\n",
       "      <td>0.449144</td>\n",
       "      <td>-0.083987</td>\n",
       "      <td>0.533131</td>\n",
       "      <td>0.08</td>\n",
       "      <td>2439244.38</td>\n",
       "      <td>227405.67</td>\n",
       "      <td>6.387255</td>\n",
       "      <td>5.356801</td>\n",
       "    </tr>\n",
       "    <tr>\n",
       "      <th>4</th>\n",
       "      <td>771989093</td>\n",
       "      <td>LEGO® Friends</td>\n",
       "      <td>LEGO® Friends</td>\n",
       "      <td>Games</td>\n",
       "      <td>4.0</td>\n",
       "      <td>400</td>\n",
       "      <td>730.941406</td>\n",
       "      <td>Everyone</td>\n",
       "      <td>0.8</td>\n",
       "      <td>LEGO® Friends</td>\n",
       "      <td>...</td>\n",
       "      <td>2.931458</td>\n",
       "      <td>2.602060</td>\n",
       "      <td>0.449144</td>\n",
       "      <td>-0.083987</td>\n",
       "      <td>0.533131</td>\n",
       "      <td>0.08</td>\n",
       "      <td>4261.46</td>\n",
       "      <td>1996.00</td>\n",
       "      <td>3.629558</td>\n",
       "      <td>3.300161</td>\n",
       "    </tr>\n",
       "  </tbody>\n",
       "</table>\n",
       "<p>5 rows × 25 columns</p>\n",
       "</div>"
      ],
      "text/plain": [
       "     apple_id        trim_title                    apple_title  genre  \\\n",
       "0   898968647     Call of Duty®          Call of Duty®: Heroes  Games   \n",
       "1  1147297267       Dont Starve      Don't Starve: Shipwrecked  Games   \n",
       "2   352670055                 F            F-Sim Space Shuttle  Games   \n",
       "3   763692274  Grand Theft Auto  Grand Theft Auto: San Andreas  Games   \n",
       "4   771989093     LEGO® Friends                  LEGO® Friends  Games   \n",
       "\n",
       "   apple_rating  apple_reviews   apple_size          pegi  \\\n",
       "0           4.5         179416   201.075195          Teen   \n",
       "1           3.5            495   604.341797  Everyone 10+   \n",
       "2           4.5           6403    72.855469      Everyone   \n",
       "3           4.0          32533  1964.965820    Mature 17+   \n",
       "4           4.0            400   730.941406      Everyone   \n",
       "\n",
       "   normed_apple_rating                   google_title  ...  \\\n",
       "0                  0.9          Call of Duty®: Heroes  ...   \n",
       "1                  0.7      Don't Starve: Shipwrecked  ...   \n",
       "2                  0.9            F-Sim Space Shuttle  ...   \n",
       "3                  0.8  Grand Theft Auto: San Andreas  ...   \n",
       "4                  0.8                  LEGO® Friends  ...   \n",
       "\n",
       "   log_google_reviews  log_apple_reviews  z_score_google_rating  \\\n",
       "0            6.205244           5.253861               0.449144   \n",
       "1            3.166726           2.694605              -0.143135   \n",
       "2            3.734560           3.806384               0.449144   \n",
       "3            5.542778           4.512324               0.449144   \n",
       "4            2.931458           2.602060               0.449144   \n",
       "\n",
       "   z_score_apple_rating  z_score_google_sub_apple  norm_google_sub_apple  \\\n",
       "0              0.638043                 -0.188899                  -0.02   \n",
       "1             -0.806018                  0.662884                   0.12   \n",
       "2              0.638043                 -0.188899                  -0.02   \n",
       "3             -0.083987                  0.533131                   0.08   \n",
       "4             -0.083987                  0.533131                   0.08   \n",
       "\n",
       "   google_revenue  apple_revenue  log_google_revenue  log_apple_revenue  \n",
       "0            0.00           0.00                 NaN                NaN  \n",
       "1         7325.32        2470.05            3.864827           3.392706  \n",
       "2        27080.73       31950.97            4.432660           4.504484  \n",
       "3      2439244.38      227405.67            6.387255           5.356801  \n",
       "4         4261.46        1996.00            3.629558           3.300161  \n",
       "\n",
       "[5 rows x 25 columns]"
      ]
     },
     "execution_count": 2,
     "metadata": {},
     "output_type": "execute_result"
    }
   ],
   "source": [
    "if not exists(\"../../datasets/2300_combine_kaggle_datasets.csv\"):\n",
    "    print (\"Missing dataset file\")\n",
    "    \n",
    "df=pd.read_csv(\"../../datasets/2300_combine_kaggle_datasets.csv\")\n",
    "df.head()"
   ]
  },
  {
   "cell_type": "markdown",
   "metadata": {},
   "source": [
    "Calculate revenue\n",
    "\n",
    "The difference between revenues can be huge."
   ]
  },
  {
   "cell_type": "code",
   "execution_count": 3,
   "metadata": {},
   "outputs": [],
   "source": [
    "df = df[['normed_apple_rating', 'apple_size', 'normed_google_rating', 'google_size', 'price', 'log_google_reviews', 'google_reviews', 'apple_reviews', 'log_apple_reviews', 'genre', 'google_revenue', 'apple_revenue']].copy()"
   ]
  },
  {
   "cell_type": "code",
   "execution_count": 4,
   "metadata": {},
   "outputs": [
    {
     "data": {
      "text/plain": [
       "normed_apple_rating    0.067777\n",
       "apple_revenue          0.005892\n",
       "apple_reviews         -0.012534\n",
       "Name: apple_size, dtype: float64"
      ]
     },
     "execution_count": 4,
     "metadata": {},
     "output_type": "execute_result"
    }
   ],
   "source": [
    "#corr_df = df[['normed_apple_rating', 'apple_size', 'normed_google_rating', 'google_size', 'price', 'google_reviews', 'apple_reviews', 'google_revenue', 'apple_revenue']].corr() \n",
    "corr_df = df[['normed_apple_rating', 'apple_size', 'price', 'apple_reviews', 'apple_revenue']].corr() \n",
    "corr_df[\"apple_size\"][['normed_apple_rating', 'apple_revenue', 'apple_reviews']].sort_values(ascending=False)"
   ]
  },
  {
   "cell_type": "code",
   "execution_count": 5,
   "metadata": {},
   "outputs": [
    {
     "data": {
      "text/plain": [
       "apple_revenue          0.202515\n",
       "normed_apple_rating    0.064964\n",
       "apple_reviews         -0.082466\n",
       "Name: price, dtype: float64"
      ]
     },
     "execution_count": 5,
     "metadata": {},
     "output_type": "execute_result"
    }
   ],
   "source": [
    "corr_df[\"price\"][['normed_apple_rating', 'apple_revenue', 'apple_reviews']].sort_values(ascending=False)"
   ]
  },
  {
   "cell_type": "markdown",
   "metadata": {},
   "source": [
    "The correlation between rating, revenue and size, price.\n",
    "\n",
    "We only analyse the relationship between related features."
   ]
  },
  {
   "cell_type": "code",
   "execution_count": 6,
   "metadata": {},
   "outputs": [
    {
     "data": {
      "image/png": "[encoded data removed]",
      "text/plain": [
       "<Figure size 432x432 with 2 Axes>"
      ]
     },
     "metadata": {
      "needs_background": "light"
     },
     "output_type": "display_data"
    }
   ],
   "source": [
    "plt.figure(figsize=(6,6))\n",
    "plt.title(\"correlation of features\")\n",
    "sns.heatmap(corr_df)\n",
    "plt.xticks(rotation=(-60), fontsize=12)\n",
    "plt.yticks(fontsize=12)\n",
    "plt.show()"
   ]
  },
  {
   "cell_type": "code",
   "execution_count": 7,
   "metadata": {},
   "outputs": [
    {
     "data": {
      "text/plain": [
       "google_reviews          0.315060\n",
       "normed_google_rating    0.117309\n",
       "google_revenue         -0.039029\n",
       "Name: google_size, dtype: float64"
      ]
     },
     "execution_count": 7,
     "metadata": {},
     "output_type": "execute_result"
    }
   ],
   "source": [
    "corr_df = df[['normed_google_rating', 'google_size', 'price', 'google_reviews', 'google_revenue']].corr() \n",
    "corr_df[\"google_size\"][['normed_google_rating', 'google_revenue', 'google_reviews']].sort_values(ascending=False)"
   ]
  },
  {
   "cell_type": "code",
   "execution_count": 8,
   "metadata": {},
   "outputs": [
    {
     "data": {
      "text/plain": [
       "google_revenue          0.194152\n",
       "normed_google_rating    0.039737\n",
       "google_reviews         -0.084497\n",
       "Name: price, dtype: float64"
      ]
     },
     "execution_count": 8,
     "metadata": {},
     "output_type": "execute_result"
    }
   ],
   "source": [
    "corr_df[\"price\"][['normed_google_rating', 'google_revenue', 'google_reviews']].sort_values(ascending=False)"
   ]
  },
  {
   "cell_type": "code",
   "execution_count": 9,
   "metadata": {},
   "outputs": [
    {
     "data": {
      "image/png": "[encoded data removed]",
      "text/plain": [
       "<Figure size 432x432 with 2 Axes>"
      ]
     },
     "metadata": {
      "needs_background": "light"
     },
     "output_type": "display_data"
    }
   ],
   "source": [
    "plt.figure(figsize=(6,6))\n",
    "plt.title(\"correlation of features\")\n",
    "sns.heatmap(corr_df)\n",
    "plt.xticks(rotation=(-60), fontsize=12)\n",
    "plt.yticks(fontsize=12)\n",
    "plt.show()"
   ]
  }
 ],
 "metadata": {
  "kernelspec": {
   "display_name": "Python 3",
   "language": "python",
   "name": "python3"
  },
  "language_info": {
   "codemirror_mode": {
    "name": "ipython",
    "version": 3
   },
   "file_extension": ".py",
   "mimetype": "text/x-python",
   "name": "python",
   "nbconvert_exporter": "python",
   "pygments_lexer": "ipython3",
   "version": "3.6.8"
  }
 },
 "nbformat": 4,
 "nbformat_minor": 2
}
