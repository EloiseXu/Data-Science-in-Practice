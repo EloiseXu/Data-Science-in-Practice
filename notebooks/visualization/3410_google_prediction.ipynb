{
 "cells": [
  {
<<<<<<< HEAD
   "cell_type": "markdown",
   "metadata": {},
   "source": [
    "# RQ4 - Can we predict an app's rating on Google Play based on its rating from Apple Store, or vice versa?\n",
    "\n",
    "__Purpose__\n",
    "\n",
    "In this notebook we will predict an app's google rating based on its apple rating. From such a task, we can tell those IOS developers whether they can achieve high ratings if they release their apps on Google Play."
   ]
  },
  {
=======
>>>>>>> 1c5c670956ed5c8b5eeaef18457653475a7eacd2
   "cell_type": "code",
   "execution_count": 1,
   "metadata": {},
   "outputs": [],
   "source": [
    "from os.path import exists, isfile\n",
    "\n",
    "import pandas as pd\n",
    "import numpy as np\n",
    "\n",
    "from matplotlib.pylab import plt\n",
    "import seaborn as sns\n",
    "\n",
    "import scipy.stats as stats\n",
    "from sklearn.linear_model import LinearRegression\n",
    "from sklearn.model_selection import train_test_split, cross_val_score, KFold\n",
    "from sklearn.metrics import accuracy_score\n",
    "\n",
    "from nltk.corpus import stopwords\n",
    "from textblob import Word\n",
    "from textblob import TextBlob"
   ]
  },
  {
<<<<<<< HEAD
   "cell_type": "markdown",
   "metadata": {},
   "source": [
    "# Load dataset"
   ]
  },
  {
=======
>>>>>>> 1c5c670956ed5c8b5eeaef18457653475a7eacd2
   "cell_type": "code",
   "execution_count": 2,
   "metadata": {},
   "outputs": [
    {
     "data": {
      "text/html": [
       "<div>\n",
       "<style scoped>\n",
       "    .dataframe tbody tr th:only-of-type {\n",
       "        vertical-align: middle;\n",
       "    }\n",
       "\n",
       "    .dataframe tbody tr th {\n",
       "        vertical-align: top;\n",
       "    }\n",
       "\n",
       "    .dataframe thead th {\n",
       "        text-align: right;\n",
       "    }\n",
       "</style>\n",
       "<table border=\"1\" class=\"dataframe\">\n",
       "  <thead>\n",
       "    <tr style=\"text-align: right;\">\n",
       "      <th></th>\n",
       "      <th>apple_id</th>\n",
       "      <th>trim_title</th>\n",
       "      <th>apple_title</th>\n",
       "      <th>genre</th>\n",
       "      <th>apple_rating</th>\n",
       "      <th>apple_reviews</th>\n",
       "      <th>apple_size</th>\n",
       "      <th>pegi</th>\n",
       "      <th>normed_apple_rating</th>\n",
       "      <th>google_title</th>\n",
       "      <th>...</th>\n",
       "      <th>log_google_reviews</th>\n",
       "      <th>log_apple_reviews</th>\n",
       "      <th>z_score_google_rating</th>\n",
       "      <th>z_score_apple_rating</th>\n",
       "      <th>z_score_google_sub_apple</th>\n",
       "      <th>norm_google_sub_apple</th>\n",
       "      <th>google_revenue</th>\n",
       "      <th>apple_revenue</th>\n",
       "      <th>log_google_revenue</th>\n",
       "      <th>log_apple_revenue</th>\n",
       "    </tr>\n",
       "  </thead>\n",
       "  <tbody>\n",
       "    <tr>\n",
       "      <th>0</th>\n",
       "      <td>898968647</td>\n",
       "      <td>Call of Duty®</td>\n",
       "      <td>Call of Duty®: Heroes</td>\n",
       "      <td>Games</td>\n",
       "      <td>4.5</td>\n",
       "      <td>179416</td>\n",
       "      <td>201.075195</td>\n",
       "      <td>Teen</td>\n",
       "      <td>0.9</td>\n",
       "      <td>Call of Duty®: Heroes</td>\n",
       "      <td>...</td>\n",
       "      <td>6.205244</td>\n",
       "      <td>5.253861</td>\n",
       "      <td>0.449144</td>\n",
       "      <td>0.638043</td>\n",
       "      <td>-0.188899</td>\n",
       "      <td>-0.02</td>\n",
       "      <td>0.00</td>\n",
       "      <td>0.00</td>\n",
       "      <td>NaN</td>\n",
       "      <td>NaN</td>\n",
       "    </tr>\n",
       "    <tr>\n",
       "      <th>1</th>\n",
       "      <td>1147297267</td>\n",
       "      <td>Dont Starve</td>\n",
       "      <td>Don't Starve: Shipwrecked</td>\n",
       "      <td>Games</td>\n",
       "      <td>3.5</td>\n",
       "      <td>495</td>\n",
       "      <td>604.341797</td>\n",
       "      <td>Everyone 10+</td>\n",
       "      <td>0.7</td>\n",
       "      <td>Don't Starve: Shipwrecked</td>\n",
       "      <td>...</td>\n",
       "      <td>3.166726</td>\n",
       "      <td>2.694605</td>\n",
       "      <td>-0.143135</td>\n",
       "      <td>-0.806018</td>\n",
       "      <td>0.662884</td>\n",
       "      <td>0.12</td>\n",
       "      <td>7325.32</td>\n",
       "      <td>2470.05</td>\n",
       "      <td>3.864827</td>\n",
       "      <td>3.392706</td>\n",
       "    </tr>\n",
       "    <tr>\n",
       "      <th>2</th>\n",
       "      <td>352670055</td>\n",
       "      <td>F</td>\n",
       "      <td>F-Sim Space Shuttle</td>\n",
       "      <td>Games</td>\n",
       "      <td>4.5</td>\n",
       "      <td>6403</td>\n",
       "      <td>72.855469</td>\n",
       "      <td>Everyone</td>\n",
       "      <td>0.9</td>\n",
       "      <td>F-Sim Space Shuttle</td>\n",
       "      <td>...</td>\n",
       "      <td>3.734560</td>\n",
       "      <td>3.806384</td>\n",
       "      <td>0.449144</td>\n",
       "      <td>0.638043</td>\n",
       "      <td>-0.188899</td>\n",
       "      <td>-0.02</td>\n",
       "      <td>27080.73</td>\n",
       "      <td>31950.97</td>\n",
       "      <td>4.432660</td>\n",
       "      <td>4.504484</td>\n",
       "    </tr>\n",
       "    <tr>\n",
       "      <th>3</th>\n",
       "      <td>763692274</td>\n",
       "      <td>Grand Theft Auto</td>\n",
       "      <td>Grand Theft Auto: San Andreas</td>\n",
       "      <td>Games</td>\n",
       "      <td>4.0</td>\n",
       "      <td>32533</td>\n",
       "      <td>1964.965820</td>\n",
       "      <td>Mature 17+</td>\n",
       "      <td>0.8</td>\n",
       "      <td>Grand Theft Auto: San Andreas</td>\n",
       "      <td>...</td>\n",
       "      <td>5.542778</td>\n",
       "      <td>4.512324</td>\n",
       "      <td>0.449144</td>\n",
       "      <td>-0.083987</td>\n",
       "      <td>0.533131</td>\n",
       "      <td>0.08</td>\n",
       "      <td>2439244.38</td>\n",
       "      <td>227405.67</td>\n",
       "      <td>6.387255</td>\n",
       "      <td>5.356801</td>\n",
       "    </tr>\n",
       "    <tr>\n",
       "      <th>4</th>\n",
       "      <td>771989093</td>\n",
       "      <td>LEGO® Friends</td>\n",
       "      <td>LEGO® Friends</td>\n",
       "      <td>Games</td>\n",
       "      <td>4.0</td>\n",
       "      <td>400</td>\n",
       "      <td>730.941406</td>\n",
       "      <td>Everyone</td>\n",
       "      <td>0.8</td>\n",
       "      <td>LEGO® Friends</td>\n",
       "      <td>...</td>\n",
       "      <td>2.931458</td>\n",
       "      <td>2.602060</td>\n",
       "      <td>0.449144</td>\n",
       "      <td>-0.083987</td>\n",
       "      <td>0.533131</td>\n",
       "      <td>0.08</td>\n",
       "      <td>4261.46</td>\n",
       "      <td>1996.00</td>\n",
       "      <td>3.629558</td>\n",
       "      <td>3.300161</td>\n",
       "    </tr>\n",
       "  </tbody>\n",
       "</table>\n",
       "<p>5 rows × 25 columns</p>\n",
       "</div>"
      ],
      "text/plain": [
       "     apple_id        trim_title                    apple_title  genre  \\\n",
       "0   898968647     Call of Duty®          Call of Duty®: Heroes  Games   \n",
       "1  1147297267       Dont Starve      Don't Starve: Shipwrecked  Games   \n",
       "2   352670055                 F            F-Sim Space Shuttle  Games   \n",
       "3   763692274  Grand Theft Auto  Grand Theft Auto: San Andreas  Games   \n",
       "4   771989093     LEGO® Friends                  LEGO® Friends  Games   \n",
       "\n",
       "   apple_rating  apple_reviews   apple_size          pegi  \\\n",
       "0           4.5         179416   201.075195          Teen   \n",
       "1           3.5            495   604.341797  Everyone 10+   \n",
       "2           4.5           6403    72.855469      Everyone   \n",
       "3           4.0          32533  1964.965820    Mature 17+   \n",
       "4           4.0            400   730.941406      Everyone   \n",
       "\n",
       "   normed_apple_rating                   google_title  ...  \\\n",
       "0                  0.9          Call of Duty®: Heroes  ...   \n",
       "1                  0.7      Don't Starve: Shipwrecked  ...   \n",
       "2                  0.9            F-Sim Space Shuttle  ...   \n",
       "3                  0.8  Grand Theft Auto: San Andreas  ...   \n",
       "4                  0.8                  LEGO® Friends  ...   \n",
       "\n",
       "   log_google_reviews  log_apple_reviews  z_score_google_rating  \\\n",
       "0            6.205244           5.253861               0.449144   \n",
       "1            3.166726           2.694605              -0.143135   \n",
       "2            3.734560           3.806384               0.449144   \n",
       "3            5.542778           4.512324               0.449144   \n",
       "4            2.931458           2.602060               0.449144   \n",
       "\n",
       "   z_score_apple_rating  z_score_google_sub_apple  norm_google_sub_apple  \\\n",
       "0              0.638043                 -0.188899                  -0.02   \n",
       "1             -0.806018                  0.662884                   0.12   \n",
       "2              0.638043                 -0.188899                  -0.02   \n",
       "3             -0.083987                  0.533131                   0.08   \n",
       "4             -0.083987                  0.533131                   0.08   \n",
       "\n",
       "   google_revenue  apple_revenue  log_google_revenue  log_apple_revenue  \n",
       "0            0.00           0.00                 NaN                NaN  \n",
       "1         7325.32        2470.05            3.864827           3.392706  \n",
       "2        27080.73       31950.97            4.432660           4.504484  \n",
       "3      2439244.38      227405.67            6.387255           5.356801  \n",
       "4         4261.46        1996.00            3.629558           3.300161  \n",
       "\n",
       "[5 rows x 25 columns]"
      ]
     },
     "execution_count": 2,
     "metadata": {},
     "output_type": "execute_result"
    }
   ],
   "source": [
    "if not exists(\"../../datasets/2300_combine_kaggle_datasets.csv\"):\n",
    "    print (\"Missing dataset file\")\n",
    "    \n",
    "df=pd.read_csv(\"../../datasets/2300_combine_kaggle_datasets.csv\")\n",
    "df.head()"
   ]
  },
  {
   "cell_type": "code",
   "execution_count": 3,
   "metadata": {},
   "outputs": [],
   "source": [
<<<<<<< HEAD
    "result_dir = '../../results/'"
   ]
  },
  {
   "cell_type": "markdown",
   "metadata": {},
   "source": [
    "# Prepare the data\n",
    "\n",
    "Before we are going to predict an app's google rating, we first decide that we will only use its apple rating, genre and pegi rating as features contributing to the predicting. This is because from the last 3 notebooks, we notice that only these 3 features have impacts on apps' ratings, but not size, price or number of reviews."
=======
    "prediction_feature = ['google_rating']"
>>>>>>> 1c5c670956ed5c8b5eeaef18457653475a7eacd2
   ]
  },
  {
   "cell_type": "code",
   "execution_count": 4,
   "metadata": {},
   "outputs": [],
   "source": [
<<<<<<< HEAD
    "prediction_feature = ['google_rating']\n",
    "numeric_features = ['apple_rating']"
   ]
  },
  {
   "cell_type": "markdown",
   "metadata": {},
   "source": [
    "To take adcantage of features like genre and pegi rating, we have to transform these categorical features into numerical features so that we can apply linear regression model to them. We simply use one-hot encoding."
=======
    "numeric_features = ['apple_rating', 'apple_reviews'] "
>>>>>>> 1c5c670956ed5c8b5eeaef18457653475a7eacd2
   ]
  },
  {
   "cell_type": "code",
   "execution_count": 5,
   "metadata": {},
   "outputs": [
    {
     "data": {
      "text/plain": [
       "(604, 15)"
      ]
     },
     "execution_count": 5,
     "metadata": {},
     "output_type": "execute_result"
    }
   ],
   "source": [
    "categorical_features= ['genre', 'pegi']\n",
    "one_hot_encodings = pd.get_dummies(df[categorical_features], drop_first=True)\n",
    "one_hot_encodings.shape"
   ]
  },
  {
   "cell_type": "code",
   "execution_count": 6,
   "metadata": {},
   "outputs": [
    {
     "data": {
      "text/html": [
       "<div>\n",
       "<style scoped>\n",
       "    .dataframe tbody tr th:only-of-type {\n",
       "        vertical-align: middle;\n",
       "    }\n",
       "\n",
       "    .dataframe tbody tr th {\n",
       "        vertical-align: top;\n",
       "    }\n",
       "\n",
       "    .dataframe thead th {\n",
       "        text-align: right;\n",
       "    }\n",
       "</style>\n",
       "<table border=\"1\" class=\"dataframe\">\n",
       "  <thead>\n",
       "    <tr style=\"text-align: right;\">\n",
       "      <th></th>\n",
       "      <th>genre_Books &amp; Reference</th>\n",
       "      <th>genre_Business</th>\n",
       "      <th>genre_Education</th>\n",
       "      <th>genre_Entertainment</th>\n",
       "      <th>genre_Food &amp; Drink</th>\n",
       "      <th>genre_Games</th>\n",
       "      <th>genre_Health &amp; Fitness</th>\n",
       "      <th>genre_Lifestyle</th>\n",
       "      <th>genre_News</th>\n",
       "      <th>genre_Others</th>\n",
       "      <th>genre_Social Networking</th>\n",
       "      <th>genre_Utilities</th>\n",
       "      <th>pegi_Everyone 10+</th>\n",
       "      <th>pegi_Mature 17+</th>\n",
       "      <th>pegi_Teen</th>\n",
       "    </tr>\n",
       "  </thead>\n",
       "  <tbody>\n",
       "    <tr>\n",
       "      <th>0</th>\n",
       "      <td>0</td>\n",
       "      <td>0</td>\n",
       "      <td>0</td>\n",
       "      <td>0</td>\n",
       "      <td>0</td>\n",
       "      <td>1</td>\n",
       "      <td>0</td>\n",
       "      <td>0</td>\n",
       "      <td>0</td>\n",
       "      <td>0</td>\n",
       "      <td>0</td>\n",
       "      <td>0</td>\n",
       "      <td>0</td>\n",
       "      <td>0</td>\n",
       "      <td>1</td>\n",
       "    </tr>\n",
       "    <tr>\n",
       "      <th>1</th>\n",
       "      <td>0</td>\n",
       "      <td>0</td>\n",
       "      <td>0</td>\n",
       "      <td>0</td>\n",
       "      <td>0</td>\n",
       "      <td>1</td>\n",
       "      <td>0</td>\n",
       "      <td>0</td>\n",
       "      <td>0</td>\n",
       "      <td>0</td>\n",
       "      <td>0</td>\n",
       "      <td>0</td>\n",
       "      <td>1</td>\n",
       "      <td>0</td>\n",
       "      <td>0</td>\n",
       "    </tr>\n",
       "    <tr>\n",
       "      <th>2</th>\n",
       "      <td>0</td>\n",
       "      <td>0</td>\n",
       "      <td>0</td>\n",
       "      <td>0</td>\n",
       "      <td>0</td>\n",
       "      <td>1</td>\n",
       "      <td>0</td>\n",
       "      <td>0</td>\n",
       "      <td>0</td>\n",
       "      <td>0</td>\n",
       "      <td>0</td>\n",
       "      <td>0</td>\n",
       "      <td>0</td>\n",
       "      <td>0</td>\n",
       "      <td>0</td>\n",
       "    </tr>\n",
       "    <tr>\n",
       "      <th>3</th>\n",
       "      <td>0</td>\n",
       "      <td>0</td>\n",
       "      <td>0</td>\n",
       "      <td>0</td>\n",
       "      <td>0</td>\n",
       "      <td>1</td>\n",
       "      <td>0</td>\n",
       "      <td>0</td>\n",
       "      <td>0</td>\n",
       "      <td>0</td>\n",
       "      <td>0</td>\n",
       "      <td>0</td>\n",
       "      <td>0</td>\n",
       "      <td>1</td>\n",
       "      <td>0</td>\n",
       "    </tr>\n",
       "    <tr>\n",
       "      <th>4</th>\n",
       "      <td>0</td>\n",
       "      <td>0</td>\n",
       "      <td>0</td>\n",
       "      <td>0</td>\n",
       "      <td>0</td>\n",
       "      <td>1</td>\n",
       "      <td>0</td>\n",
       "      <td>0</td>\n",
       "      <td>0</td>\n",
       "      <td>0</td>\n",
       "      <td>0</td>\n",
       "      <td>0</td>\n",
       "      <td>0</td>\n",
       "      <td>0</td>\n",
       "      <td>0</td>\n",
       "    </tr>\n",
       "  </tbody>\n",
       "</table>\n",
       "</div>"
      ],
      "text/plain": [
       "   genre_Books & Reference  genre_Business  genre_Education  \\\n",
       "0                        0               0                0   \n",
       "1                        0               0                0   \n",
       "2                        0               0                0   \n",
       "3                        0               0                0   \n",
       "4                        0               0                0   \n",
       "\n",
       "   genre_Entertainment  genre_Food & Drink  genre_Games  \\\n",
       "0                    0                   0            1   \n",
       "1                    0                   0            1   \n",
       "2                    0                   0            1   \n",
       "3                    0                   0            1   \n",
       "4                    0                   0            1   \n",
       "\n",
       "   genre_Health & Fitness  genre_Lifestyle  genre_News  genre_Others  \\\n",
       "0                       0                0           0             0   \n",
       "1                       0                0           0             0   \n",
       "2                       0                0           0             0   \n",
       "3                       0                0           0             0   \n",
       "4                       0                0           0             0   \n",
       "\n",
       "   genre_Social Networking  genre_Utilities  pegi_Everyone 10+  \\\n",
       "0                        0                0                  0   \n",
       "1                        0                0                  1   \n",
       "2                        0                0                  0   \n",
       "3                        0                0                  0   \n",
       "4                        0                0                  0   \n",
       "\n",
       "   pegi_Mature 17+  pegi_Teen  \n",
       "0                0          1  \n",
       "1                0          0  \n",
       "2                0          0  \n",
       "3                1          0  \n",
       "4                0          0  "
      ]
     },
     "execution_count": 6,
     "metadata": {},
     "output_type": "execute_result"
    }
   ],
   "source": [
    "one_hot_encodings.head()"
   ]
  },
  {
   "cell_type": "code",
   "execution_count": 7,
   "metadata": {},
   "outputs": [
    {
     "data": {
      "text/plain": [
       "(604, 40)"
      ]
     },
     "execution_count": 7,
     "metadata": {},
     "output_type": "execute_result"
    }
   ],
   "source": [
    "df = pd.concat([df, one_hot_encodings], axis=1)\n",
    "df.shape"
   ]
  },
  {
   "cell_type": "code",
   "execution_count": 8,
   "metadata": {},
   "outputs": [],
   "source": [
    "categorical_features = list(one_hot_encodings.columns)"
   ]
  },
  {
   "cell_type": "code",
   "execution_count": 9,
   "metadata": {},
   "outputs": [
    {
     "data": {
      "text/plain": [
       "apple_rating               0\n",
<<<<<<< HEAD
=======
       "apple_reviews              0\n",
>>>>>>> 1c5c670956ed5c8b5eeaef18457653475a7eacd2
       "genre_Books & Reference    0\n",
       "genre_Business             0\n",
       "genre_Education            0\n",
       "genre_Entertainment        0\n",
       "genre_Food & Drink         0\n",
       "genre_Games                0\n",
       "genre_Health & Fitness     0\n",
       "genre_Lifestyle            0\n",
       "genre_News                 0\n",
       "genre_Others               0\n",
       "genre_Social Networking    0\n",
       "genre_Utilities            0\n",
       "pegi_Everyone 10+          0\n",
       "pegi_Mature 17+            0\n",
       "pegi_Teen                  0\n",
       "google_rating              0\n",
       "dtype: int64"
      ]
     },
     "execution_count": 9,
     "metadata": {},
     "output_type": "execute_result"
    }
   ],
   "source": [
    "base_features = numeric_features + categorical_features \n",
    "data = df[base_features + prediction_feature].copy()\n",
    "data.isnull().sum()"
   ]
  },
  {
<<<<<<< HEAD
   "cell_type": "markdown",
   "metadata": {},
   "source": [
    "# Linear Regression"
   ]
  },
  {
=======
>>>>>>> 1c5c670956ed5c8b5eeaef18457653475a7eacd2
   "cell_type": "code",
   "execution_count": 10,
   "metadata": {},
   "outputs": [
    {
     "data": {
      "text/plain": [
<<<<<<< HEAD
       "0.29905773053200035"
=======
       "0.30183315187868787"
>>>>>>> 1c5c670956ed5c8b5eeaef18457653475a7eacd2
      ]
     },
     "execution_count": 10,
     "metadata": {},
     "output_type": "execute_result"
    }
   ],
   "source": [
    "model = LinearRegression().fit(data[base_features], data[prediction_feature])\n",
    "model.score(data[base_features], data[prediction_feature])"
   ]
  },
  {
<<<<<<< HEAD
   "cell_type": "markdown",
   "metadata": {},
   "source": [
    "This is a weak-moderate fit because only 30% of the variation in the target prediction is explained by training data."
   ]
  },
  {
   "cell_type": "markdown",
   "metadata": {},
   "source": [
    "# Extra feature\n",
    "\n",
    "We have not use the title of each app yet. To take advantage of such a feature, we consider using the sentiment of it. If we have many words from apps' titles, we might be able to use methods like TF-IDF to improve our predictions by utilizing apps' titles as a new feature. However, in this project this will only lead to worse result. "
=======
   "cell_type": "code",
   "execution_count": 11,
   "metadata": {},
   "outputs": [
    {
     "data": {
      "text/plain": [
       "(array([[4.44533467]]), google_rating    4.4\n",
       " Name: 0, dtype: float64)"
      ]
     },
     "execution_count": 11,
     "metadata": {},
     "output_type": "execute_result"
    }
   ],
   "source": [
    "test = data.iloc[0]       \n",
    "training = data.iloc[1:]  \n",
    "\n",
    "model = LinearRegression().fit(training[base_features], training[prediction_feature])\n",
    "model.predict(test[base_features].values.reshape(1, -1)), test[prediction_feature]"
   ]
  },
  {
   "cell_type": "code",
   "execution_count": 12,
   "metadata": {},
   "outputs": [
    {
     "data": {
      "text/plain": [
       "(array([[4.41745018]]),      google_rating\n",
       " 603            4.2)"
      ]
     },
     "execution_count": 12,
     "metadata": {},
     "output_type": "execute_result"
    }
   ],
   "source": [
    "test = data.iloc[[len(data)-1]]    \n",
    "training = data.iloc[:len(data)-1] \n",
    "\n",
    "model = LinearRegression().fit(training[base_features], training[prediction_feature])\n",
    "model.predict(test[base_features]), test[prediction_feature]"
>>>>>>> 1c5c670956ed5c8b5eeaef18457653475a7eacd2
   ]
  },
  {
   "cell_type": "code",
<<<<<<< HEAD
   "execution_count": 11,
=======
   "execution_count": 13,
>>>>>>> 1c5c670956ed5c8b5eeaef18457653475a7eacd2
   "metadata": {},
   "outputs": [],
   "source": [
    "df['apple_title'] = df['apple_title'].apply(lambda x: \" \".join(x.lower() for x in x.split()))\n",
    "df['apple_title']  = df['apple_title'] .str.replace('[^\\w\\s]','')"
   ]
  },
  {
   "cell_type": "code",
<<<<<<< HEAD
   "execution_count": 12,
=======
   "execution_count": 14,
>>>>>>> 1c5c670956ed5c8b5eeaef18457653475a7eacd2
   "metadata": {},
   "outputs": [
    {
     "data": {
      "text/plain": [
       "0                call duty heroes\n",
       "1         dont starve shipwrecked\n",
       "2              fsim space shuttle\n",
       "3    grand theft auto san andreas\n",
       "4                    lego friends\n",
       "Name: apple_title, dtype: object"
      ]
     },
<<<<<<< HEAD
     "execution_count": 12,
=======
     "execution_count": 14,
>>>>>>> 1c5c670956ed5c8b5eeaef18457653475a7eacd2
     "metadata": {},
     "output_type": "execute_result"
    }
   ],
   "source": [
    "stop = stopwords.words('english')\n",
    "\n",
    "df['apple_title'] = df['apple_title'].apply(lambda x: \" \".join(x for x in x.split() if x not in stop))\n",
    "df['apple_title'].head()"
   ]
  },
  {
   "cell_type": "code",
<<<<<<< HEAD
   "execution_count": 13,
=======
   "execution_count": 15,
>>>>>>> 1c5c670956ed5c8b5eeaef18457653475a7eacd2
   "metadata": {},
   "outputs": [
    {
     "data": {
      "text/plain": [
<<<<<<< HEAD
       "epson        1\n",
       "fightersi    1\n",
       "bookstore    1\n",
       "kombat       1\n",
       "ok           1\n",
       "dtype: int64"
      ]
     },
     "execution_count": 13,
=======
       "webde      1\n",
       "date       1\n",
       "risk       1\n",
       "origins    1\n",
       "bread      1\n",
       "dtype: int64"
      ]
     },
     "execution_count": 15,
>>>>>>> 1c5c670956ed5c8b5eeaef18457653475a7eacd2
     "metadata": {},
     "output_type": "execute_result"
    }
   ],
   "source": [
    "freq = pd.Series(' '.join(df['apple_title']).split()).value_counts()[-5:]\n",
    "freq"
   ]
  },
  {
   "cell_type": "code",
<<<<<<< HEAD
   "execution_count": 14,
=======
   "execution_count": 16,
>>>>>>> 1c5c670956ed5c8b5eeaef18457653475a7eacd2
   "metadata": {},
   "outputs": [
    {
     "data": {
      "text/plain": [
       "0                  call duty hero\n",
       "1         dont starve shipwrecked\n",
       "2              fsim space shuttle\n",
       "3    grand theft auto san andreas\n",
       "4                     lego friend\n",
       "Name: apple_title, dtype: object"
      ]
     },
<<<<<<< HEAD
     "execution_count": 14,
=======
     "execution_count": 16,
>>>>>>> 1c5c670956ed5c8b5eeaef18457653475a7eacd2
     "metadata": {},
     "output_type": "execute_result"
    }
   ],
   "source": [
    "df['apple_title'] = df['apple_title'].apply(lambda x: \" \".join([Word(word).lemmatize() for word in x.split()]))\n",
    "df['apple_title'].head()"
   ]
  },
  {
   "cell_type": "code",
<<<<<<< HEAD
   "execution_count": 15,
=======
   "execution_count": 17,
>>>>>>> 1c5c670956ed5c8b5eeaef18457653475a7eacd2
   "metadata": {},
   "outputs": [
    {
     "data": {
      "text/plain": [
       "0    0.0\n",
       "1    0.0\n",
       "2    0.0\n",
       "3    0.5\n",
       "4    0.0\n",
       "Name: sentiment, dtype: float64"
      ]
     },
<<<<<<< HEAD
     "execution_count": 15,
=======
     "execution_count": 17,
>>>>>>> 1c5c670956ed5c8b5eeaef18457653475a7eacd2
     "metadata": {},
     "output_type": "execute_result"
    }
   ],
   "source": [
    "df['sentiment'] = df['apple_title'].apply(lambda x: TextBlob(x).sentiment[0])\n",
    "df['sentiment'].head()"
   ]
  },
  {
   "cell_type": "code",
<<<<<<< HEAD
   "execution_count": 16,
=======
   "execution_count": 18,
>>>>>>> 1c5c670956ed5c8b5eeaef18457653475a7eacd2
   "metadata": {},
   "outputs": [],
   "source": [
    "expanded_features = ['sentiment'] "
   ]
  },
  {
<<<<<<< HEAD
   "cell_type": "markdown",
   "metadata": {},
   "source": [
    "# Evaluating Predictions with Cross-Fold Validation\n",
    "\n",
    "We choose to use median value of apps' apple ratings to predict apps' google ratings as a baseline. Also, we will see how much pegi rating, genre and title's sentiment help to predict the google ratings by making predictions only based on apps' apple ratings to make a comparison."
   ]
  },
  {
   "cell_type": "code",
   "execution_count": 17,
=======
   "cell_type": "code",
   "execution_count": 19,
>>>>>>> 1c5c670956ed5c8b5eeaef18457653475a7eacd2
   "metadata": {},
   "outputs": [
    {
     "data": {
      "text/plain": [
       "-0.16863300998581704"
      ]
     },
<<<<<<< HEAD
     "execution_count": 17,
=======
     "execution_count": 19,
>>>>>>> 1c5c670956ed5c8b5eeaef18457653475a7eacd2
     "metadata": {},
     "output_type": "execute_result"
    }
   ],
   "source": [
    "expanded_only_scores = cross_val_score(\n",
    "            model, df[expanded_features], \n",
    "            data[prediction_feature], \n",
    "            cv=10,\n",
    "            scoring='neg_median_absolute_error'\n",
    ")\n",
    "\n",
    "expanded_only_scores.mean()"
   ]
  },
  {
   "cell_type": "code",
<<<<<<< HEAD
   "execution_count": 18,
=======
   "execution_count": 20,
>>>>>>> 1c5c670956ed5c8b5eeaef18457653475a7eacd2
   "metadata": {},
   "outputs": [
    {
     "data": {
      "text/plain": [
<<<<<<< HEAD
       "-0.13133587725815304"
      ]
     },
     "execution_count": 18,
=======
       "-0.133785485537638"
      ]
     },
     "execution_count": 20,
>>>>>>> 1c5c670956ed5c8b5eeaef18457653475a7eacd2
     "metadata": {},
     "output_type": "execute_result"
    }
   ],
   "source": [
    "base_scores = cross_val_score(\n",
    "            model, data[base_features], \n",
    "            data[prediction_feature], \n",
    "            cv=10,\n",
    "            scoring='neg_median_absolute_error'\n",
    ")\n",
    "\n",
    "base_scores.mean()"
   ]
  },
  {
   "cell_type": "code",
<<<<<<< HEAD
   "execution_count": 19,
=======
   "execution_count": 21,
>>>>>>> 1c5c670956ed5c8b5eeaef18457653475a7eacd2
   "metadata": {},
   "outputs": [
    {
     "data": {
      "text/plain": [
<<<<<<< HEAD
       "-0.13088117589230136"
      ]
     },
     "execution_count": 19,
=======
       "-0.1312470793949367"
      ]
     },
     "execution_count": 21,
>>>>>>> 1c5c670956ed5c8b5eeaef18457653475a7eacd2
     "metadata": {},
     "output_type": "execute_result"
    }
   ],
   "source": [
    "expanded_scores = cross_val_score(\n",
    "            model, df[base_features+expanded_features], \n",
    "            df[prediction_feature], \n",
    "            cv=10,\n",
    "            scoring='neg_median_absolute_error'\n",
    ")\n",
    "\n",
    "expanded_scores.mean()"
   ]
  },
  {
   "cell_type": "code",
<<<<<<< HEAD
   "execution_count": 20,
=======
   "execution_count": 22,
>>>>>>> 1c5c670956ed5c8b5eeaef18457653475a7eacd2
   "metadata": {},
   "outputs": [
    {
     "data": {
      "text/plain": [
       "0.20529801324503258"
      ]
     },
<<<<<<< HEAD
     "execution_count": 20,
=======
     "execution_count": 22,
>>>>>>> 1c5c670956ed5c8b5eeaef18457653475a7eacd2
     "metadata": {},
     "output_type": "execute_result"
    }
   ],
   "source": [
    "mean_rating_scores = (df['google_rating']-df['google_rating'].median()).abs()\n",
    "mean_rating_scores.mean()"
   ]
  },
  {
   "cell_type": "code",
<<<<<<< HEAD
   "execution_count": 21,
=======
   "execution_count": 23,
>>>>>>> 1c5c670956ed5c8b5eeaef18457653475a7eacd2
   "metadata": {},
   "outputs": [
    {
     "data": {
      "text/plain": [
       "-0.13412837400219746"
      ]
     },
<<<<<<< HEAD
     "execution_count": 21,
=======
     "execution_count": 23,
>>>>>>> 1c5c670956ed5c8b5eeaef18457653475a7eacd2
     "metadata": {},
     "output_type": "execute_result"
    }
   ],
   "source": [
    "rating_only_scores = cross_val_score(\n",
    "            model, data[['apple_rating']], \n",
    "            data[prediction_feature], \n",
    "            cv=10,                               \n",
    "            scoring='neg_median_absolute_error'  \n",
    ")\n",
    "\n",
    "rating_only_scores.mean()"
   ]
  },
  {
   "cell_type": "code",
<<<<<<< HEAD
   "execution_count": 22,
=======
   "execution_count": 24,
>>>>>>> 1c5c670956ed5c8b5eeaef18457653475a7eacd2
   "metadata": {},
   "outputs": [
    {
     "name": "stderr",
     "output_type": "stream",
     "text": [
      "No handles with labels found to put in legend.\n"
     ]
    },
    {
     "data": {
<<<<<<< HEAD
      "image/png": "iVBORw0KGgoAAAANSUhEUgAABDAAAAGoCAYAAACwmRWfAAAABHNCSVQICAgIfAhkiAAAAAlwSFlzAAALEgAACxIB0t1+/AAAADl0RVh0U29mdHdhcmUAbWF0cGxvdGxpYiB2ZXJzaW9uIDMuMC4yLCBodHRwOi8vbWF0cGxvdGxpYi5vcmcvOIA7rQAAIABJREFUeJzt3Xm4ZVV5J/7vSzE6IULFGMAUMWRATYiURI1t4xhMFExEgThAfhjSpmnbTjStnTihZtRo7KiRBEVBRRs1QUWJQ9BOHKAwKIONlkikQiUWgwhCgcD7++PsK6du3aq6hXWqNsXn8zznuXuvtfY+69zn7Lvv+Z61167uDgAAAMCY7bCtOwAAAACwKQIMAAAAYPQEGAAAAMDoCTAAAACA0RNgAAAAAKMnwAAAAABGT4ABAAAAjJ4AAwAAABg9AQYAAAAwejtu6w5sDXvttVcvW7ZsW3cDAAAAmOf888+/qruXbqrd3SLAWLZsWVasWLGtuwEAAADMU1X/uph2LiEBAAAARk+AAQAAAIyeAAMAAAAYvbvFHBgAwF3X97///axatSpr165dr27XXXfNPvvsk5122mkb9AwA2JoEGADAqK1atSr3vve9s2zZslTVD8q7O1dffXVWrVqV/fbbbxv2EADYGlxCAgCM2tq1a7PnnnuuE14kSVVlzz33XHBkBgCw/RFgAACjNz+82FQ5ALD9EWAAAAAAoyfAAAAAAEZPgAEAjF53b1Y5ALD9EWAAAKO266675uqrr14vrJi7C8muu+66jXoGAGxNbqMKAIzaPvvsk1WrVmXNmjXr1e26667ZZ599tkGvAICtTYABAIzaTjvtlP32229bdwMA2MZcQgIAAACMngADAAAAGD0BBgAAADB65sC4Ey4/2XW4bFvLjvvmtu4CAADAVmUEBgAAADB6AgwAAABg9AQYAAAAwOgJMAAAAIDRE2AAAAAAozfTAKOqDq2qS6tqZVW9ZIH6362qS6rqK1X1qar68am6Y6rq68PjmKnyg6rqwmGfb6qqmuVrAAAAALa9mQUYVbUkyZuTPDnJAUmOrqoD5jX7lyTLu/vnkpyR5M+Gbe+X5BVJfjHJwUleUVV7DNu8NcnxSfYfHofO6jUAAAAA4zDLERgHJ1nZ3Zd19y1JTk9y+HSD7v7H7r5xWP1Ckn2G5V9O8onuvqa7r03yiSSHVtUDktynuz/f3Z3kXUmeNsPXAAAAAIzALAOMvZNcMbW+aijbkOOSfGwT2+49LG9yn1V1fFWtqKoVa9as2cyuAwAAAGMyywBjobkpesGGVc9OsjzJn29i20Xvs7tP6u7l3b186dKli+guAAAAMFazDDBWJdl3an2fJFfOb1RVT0jyB0kO6+6bN7HtqtxxmckG9wkAAABsX2YZYJyXZP+q2q+qdk5yVJIzpxtU1S8keVsm4cW3p6rOTvKkqtpjmLzzSUnO7u7VSa6vqkcMdx95bpK/n+FrAAAAAEZgx1ntuLtvraoTMgkjliR5e3dfXFUnJlnR3WdmcsnIvZL8n+FuqN/q7sO6+5qqenUmIUiSnNjd1wzLz09ySpLdMpkz42MBAAAAtmszCzCSpLvPSnLWvLKXTy0/YSPbvj3J2xcoX5HkIVuwmwAAAMDIzfISEgAAAIAtQoABAAAAjJ4AAwAAABg9AQYAAAAwegIMAAAAYPQEGAAAAMDoCTAAAACA0RNgAAAAAKMnwAAAAABGT4ABAAAAjJ4AAwAAABg9AQYAAAAwegIMAAAAYPQEGAAAAMDoCTAAAACA0RNgAAAAAKMnwAAAAABGT4ABAAAAjJ4AAwAAABg9AQYAAAAwegIMAAAAYPQEGAAAAMDoCTAAAACA0RNgAAAAAKMnwAAAAABGT4ABAAAAjJ4AAwAAABg9AQYAAAAwegIMAAAAYPQEGAAAAMDoCTAAAACA0RNgAAAAAKMnwAAAAABGT4ABAAAAjN5MA4yqOrSqLq2qlVX1kgXqH1NVX6qqW6vqiKnyx1bVBVOPtVX1tKHulKr65lTdgbN8DQAAAMC2t+OsdlxVS5K8OckTk6xKcl5Vndndl0w1+1aSY5O8aHrb7v7HJAcO+7lfkpVJ/mGqyYu7+4xZ9R0AAAAYl5kFGEkOTrKyuy9Lkqo6PcnhSX4QYHT35UPd7RvZzxFJPtbdN86uqwAAAMCYzfISkr2TXDG1vmoo21xHJXnvvLLXVtVXquoNVbXLne0gAAAAcNcwywCjFijrzdpB1QOSPDTJ2VPFL03yM0kenuR+Sf7nBrY9vqpWVNWKNWvWbM7TAgAAACMzywBjVZJ9p9b3SXLlZu7jmUk+1N3fnyvo7tU9cXOSd2Ryqcp6uvuk7l7e3cuXLl26mU8LAAAAjMksA4zzkuxfVftV1c6ZXApy5mbu4+jMu3xkGJWRqqokT0ty0RboKwAAADBiMwswuvvWJCdkcvnHV5O8v7svrqoTq+qwJKmqh1fVqiTPSPK2qrp4bvuqWpbJCI7PzNv1u6vqwiQXJtkryWtm9RoAAACAcZjlXUjS3WclOWte2cunls/L5NKShba9PAtM+tndj9uyvQQAAADGbpaXkAAAAABsEQIMAAAAYPQEGAAAAMDoCTAAAACA0RNgAAAAAKMnwAAAAABGb6a3UQUAgM11+cn7besucDe37LhvbusuAAswAgMAAAAYPQEGAAAAMHoCDAAAAGD0BBgAAADA6AkwAAAAgNETYAAAAACjJ8AAAAAARk+AAQAAAIyeAAMAAAAYPQEGAAAAMHoCDAAAAGD0BBgAAADA6AkwAAAAgNETYAAAAACjJ8AAAAAARk+AAQAAAIyeAAMAAAAYPQEGAAAAMHoCDAAAAGD0BBgAAADA6AkwAAAAgNETYAAAAACjJ8AAAAAARk+AAQAAAIyeAAMAAAAYPQEGAAAAMHoCDAAAAGD0BBgAAADA6M00wKiqQ6vq0qpaWVUvWaD+MVX1paq6taqOmFd3W1VdMDzOnCrfr6q+WFVfr6r3VdXOs3wNAAAAwLY3swCjqpYkeXOSJyc5IMnRVXXAvGbfSnJskvcssIubuvvA4XHYVPmfJnlDd++f5Nokx23xzgMAAACjMssRGAcnWdndl3X3LUlOT3L4dIPuvry7v5Lk9sXssKoqyeOSnDEUvTPJ07ZclwEAAIAxmmWAsXeSK6bWVw1li7VrVa2oqi9U1VxIsWeS73T3rZvaZ1UdP2y/Ys2aNZvbdwAAAGBEdpzhvmuBst6M7R/Y3VdW1U8k+XRVXZjku4vdZ3eflOSkJFm+fPnmPC8AAAAwMrMcgbEqyb5T6/skuXKxG3f3lcPPy5Kck+QXklyV5L5VNRe8bNY+AQAAgLumWQYY5yXZf7hryM5Jjkpy5ia2SZJU1R5VtcuwvFeSX0pySXd3kn9MMnfHkmOS/P0W7zkAAAAwKjMLMIZ5Kk5IcnaSryZ5f3dfXFUnVtVhSVJVD6+qVUmekeRtVXXxsPnPJllRVV/OJLD4k+6+ZKj7n0l+t6pWZjInxsmzeg0AAADAOMxyDox091lJzppX9vKp5fMyuQxk/nafS/LQDezzskzucAIAAADcTczyEhIAAACALUKAAQAAAIyeAAMAAAAYPQEGAAAAMHoCDAAAAGD0BBgAAADA6AkwAAAAgNETYAAAAACjJ8AAAAAARk+AAQAAAIyeAAMAAAAYPQEGAAAAMHoCDAAAAGD0BBgAAADA6AkwAAAAgNETYAAAAACjJ8AAAAAARk+AAQAAAIyeAAMAAAAYPQEGAAAAMHoCDAAAAGD0BBgAAADA6O24rTsAbH8uP3m/bd0F7uaWHffNbd0FAAC2MCMwAAAAgNETYAAAAACjJ8AAAAAARk+AAQAAAIze3WISz0svvTSHHHLIOmXPfOYz8zu/8zu58cYb8yu/8ivrbXPsscfm2GOPzVVXXZUjjjhinbq1q1fn2YfcJ085+J658ppb87t/u2a97Z/3pN3zhAPvkW/8+/fzB++6ar36E55y3zz6gN1yybduzomnX7Ne/Yt/fY8c9JO75vyVa/PnH7x2vfqXH3W/HPDAXfJPl9yUv/rId9arf+1z98qDfnSnfPKCG/O3/3DdevV/8byl+bH77ZiPnPu9nHbOd9erf8vzfyT3u/eSnPHP1+eMf75hvfp3/Pf7Z7dddsip//jdfPS8761Xf/rvPyBJctLZ1+XTX75xnbpdd94hp7zw/kmSN334O/ncV29ap36Pey3JW3/nR5Ikf/aBa/Olb6xdp/5H99gxb/ytpUmSE0+/Opd865Z16vf70Z3yx8/dK0ny0nddlW/++/fXqT/ggTvn5UftmSR54d+syb9fe+s69Q970K75/afvkSR5/lu+nWtvuG2d+kf97G55wVPvmyQ59o3/kbW33L5O/eN+/h45/pd3T5Ic9WerM9+vPvyeec5j75Obbr49v/mX/7Fe/RG/dK8c8Uv3zjXX35bfeeu316t/9iH3yQnHJVdccUWe85znrFf/e7/3e3nqU5+aSy+9NL/927+9Xv0f/uEf5glPeEIuuOCCvPCFL1yv/o/+6I/yqEc9Kp/73Ofyv/7X/1qv/o1vfGMOPPDAfPKTn8xrXvOa9erf9ra3ZZfEe287fe/dVf7unTbvb36SnHrqqdl3333zvve9L29961vXqz/jjDOy11575ZRTTskpp5yyXv1ZZ52Ve9zjHnnLW96S97///evVn3POOUmS173udfnIRz6yTt1uu+2Wj33sY0mSV7/61fnoaa9dp957b/t5791V/u7t+oBHJEn23HPPfOADH0iSvPSlL83nP//5dbbfZ599ctpppyVJXvjCF+aCCy5Yp/6nfuqnctJJJyVJjj/++Hzta19bp/7AAw/MG9/4xiTJs5/97KxatWqd+kc+8pH54z/+4yTJ05/+9Fx99dVJJv9rJd572+N7b87Y/+796pWvzste9rIkyZOf/OTcdNO6/X/KU56SF73oRUmy3ueM5If7rJEkz3/+83PkkUeO+v+9n/7pn86HP/zhvP71r1+vfkzn3E996lPr1I/1796cxz/+8Xfr996m3C0CDAAAgO3Ff/zD83L5t++RVf/+/axdvX549u8fe3Yu/9fdcuW3bs7a1euHZ6s//PRc/tVds3rl2qxdvX54duWHfiX3PX+X/PslN2Xt6vXDs1VnPD67/OhO+Y8Lbsza1euHZ1ec/qjcdr8ds+bc72Xt6vXDs2+d9rDccO8lueqfr8/a1euHZ/96ys9mt112yNWf+27Wrl4/PJu74901516XtavXDc+y8w4/qL/2/O9k7ep1A4Abr1/yg/rrvnxt1q5eNzy7Ye2OP6j/7sVXZ+3qdcOz6/v8XH7yJybLl16VtfPCs+/u9KVcfvLfT/a1ck3WzgvPrvvyBbn85NMnfbn821k7Lzy79vwv5/KT354kuWnV+sHtNed+JZef/OYkd4S9067+3IW5fJc/z0033561q9cPbq/67EW5/LZX5Zrrb8va1esHt2s+fUkuv+ElufKaW7N29frB7dx7L4/++Hp1W0N19zZ54q1p+fLlvWLFii22P7eIZFsb+y0iHSNsa44R2DjHCGycYwQ2bksfI1V1fncv31Q7c2AAAAAAoyfAAAAAAEZPgAEAAACMngADAAAAGD0BBgAAADB6Mw0wqurQqrq0qlZW1UsWqH9MVX2pqm6tqiOmyg+sqs9X1cVV9ZWqOnKq7pSq+mZVXTA8DpzlawAAAAC2vR1nteOqWpLkzUmemGRVkvOq6szuvmSq2beSHJvkRfM2vzHJc7v761X1Y0nOr6qzu3vuJsQv7u4zZtV3AAAAYFxmFmAkOTjJyu6+LEmq6vQkhyf5QYDR3ZcPdbdPb9jdX5tavrKqvp1kaZLvBAAAALjbmeUlJHsnuWJqfdVQtlmq6uAkOyf5xlTxa4dLS95QVbtsYLvjq2pFVa1Ys2bN5j4tAAAAMCKzDDBqgbLerB1UPSDJqUl+s7vnRmm8NMnPJHl4kvsl+Z8LbdvdJ3X38u5evnTp0s15WgAAAGBkZhlgrEqy79T6PkmuXOzGVXWfJB9N8ofd/YW58u5e3RM3J3lHJpeqAAAAANuxWQYY5yXZv6r2q6qdkxyV5MzFbDi0/1CSd3X3/5lX94DhZyV5WpKLtmivAQAAgNHZaIBRVTtU1Z0KCLr71iQnJDk7yVeTvL+7L66qE6vqsGH/D6+qVUmekeRtVXXxsPkzkzwmybEL3C713VV1YZILk+yV5DV3pn8AAADAXcdG70LS3bdX1Zer6oHd/a3N3Xl3n5XkrHllL59aPi+TS0vmb3daktM2sM/HbW4/AAAAgLu2xdxG9QFJLq6qc5N8b66wuw+bWa8AAAAApiwmwHjVzHsBAAAAsBGbDDC6+zNVdf9MbluaJOd297dn2y0AAACAO2zyLiRV9cwk52Yy0eYzk3yxqo6YdccAAAAA5izmEpI/SPLwuVEXVbU0ySeTnDHLjgEAAADM2eQIjCQ7zLtk5OpFbgcAAACwRSxmBMbHq+rsJO8d1o/MvFujAgAAAMzSYibxfHFV/XqSRyepJCd194dm3jMAAACAwUYDjKpakuTs7n5Ckg9unS4BAAAArGujc1l0921Jbqyq3bdSfwAAAADWs5g5MNYmubCqPpHke3OF3f2CmfUKAAAAYMpiAoyPDg8AAACAbWIxc2A8sbufvZX6AwAAALCexcyBsbSqdt5K/QEAAABYz2IuIbk8yT9X1ZlZdw6Mv5hVpwAAAACmLSbAuHJ47JDk3rPtDgAAAMD6NhlgdPer5pdV1WKCDwAAAIAtYoNzYFTVP00tnzqv+tyZ9QgAAABgno1N4nnPqeWHzKurGfQFAAAAYEEbCzB6A8sLrQMAAADMzMbmsrhvVf1aJiHHfavq14fySrL7zHsGAAAAMNhYgPGZJIdNLT91qu6zM+sRAAAAwDwbDDC6+ze3ZkcAAAAANmRjc2AAAAAAjIIAAwAAABg9AQYAAAAwehubxPMHqupRSZZNt+/ud82oTwAAAADr2GSAUVWnJnlQkguS3DYUdxIBBgAAALBVLGYExvIkB3R3z7ozAAAAAAtZzBwYFyX50Vl3BAAAAGBDFjMCY68kl1TVuUlunivs7sNm1isAAACAKYsJMF45604AAAAAbMwmA4zu/szW6AgAAADAhmxyDoyqekRVnVdVN1TVLVV1W1V9d2t0DgAAACBZ3CSef5Xk6CRfT7JbkucNZZtUVYdW1aVVtbKqXrJA/WOq6ktVdWtVHTGv7piq+vrwOGaq/KCqunDY55uqqhbTFwAAAOCuazEBRrp7ZZIl3X1bd78jySGb2qaqliR5c5InJzkgydFVdcC8Zt9KcmyS98zb9n5JXpHkF5McnOQVVbXHUP3WJMcn2X94HLqY1wAAAADcdS1mEs8bq2rnJBdU1Z8lWZ3knovY7uAkK7v7siSpqtOTHJ7kkrkG3X35UHf7vG1/Ocknuvuaof4TSQ6tqnOS3Ke7Pz+UvyvJ05J8bBH9AQAAAO6iFjMC4zlDuxOSfC/Jvkmevojt9k5yxdT6qqFsMTa07d7D8ib3WVXHV9WKqlqxZs2aRT4tAAAAMEaLuQvJv1bVbkke0N2v2ox9LzQ3Rf+Q2y56n919UpKTkmT58uWLfV4AAABghBZzF5KnJrkgyceH9QOr6sxF7HtVJqM15uyT5MpF9mtD264alu/MPgEAAIC7qMVcQvLKTOaz+E6SdPcFSZYtYrvzkuxfVfsNc2gclWQxwUeSnJ3kSVW1xzB555OSnN3dq5NcP9zatZI8N8nfL3KfAAAAwF3UYgKMW7v7us3dcXffmsm8GWcn+WqS93f3xVV1YlUdliRV9fCqWpXkGUneVlUXD9tek+TVmYQg5yU5cW5CzyTPT/K3SVYm+UZM4AkAAADbvcXcheSiqvqNJEuqav8kL0jyucXsvLvPSnLWvLKXTy2fl3UvCZlu9/Ykb1+gfEWShyzm+QEAAIDtw2JGYPy3JA9OcnOS9yb5bpIXzrJTAAAAANMWcxeSG5P8wfAAAAAA2Oo2GGBs6k4j3X3Ylu8OAAAAwPo2NgLjkUmuyOSykS8mqa3SIwAAAIB5NhZg/GiSJyY5OslvJPlokvd298Vbo2MAAAAAczY4iWd339bdH+/uY5I8IpPblp5TVf9tq/UOAAAAIJuYxLOqdknyq5mMwliW5E1JPjj7bgEAAADcYWOTeL4zyUOSfCzJq7r7oq3WKwAAAIApGxuB8Zwk30vyU0leUPWDOTwrSXf3fWbcNwAAAIAkGwkwunuD82MAAAAAbE1CCgAAAGD0BBgAAADA6AkwAAAAgNETYAAAAACjJ8AAAAAARk+AAQAAAIyeAAMAAAAYPQEGAAAAMHoCDAAAAGD0BBgAAADA6AkwAAAAgNETYAAAAACjJ8AAAAAARk+AAQAAAIyeAAMAAAAYPQEGAAAAMHoCDAAAAGD0BBgAAADA6AkwAAAAgNETYAAAAACjJ8AAAAAARk+AAQAAAIyeAAMAAAAYPQEGAAAAMHoCDAAAAGD0ZhpgVNWhVXVpVa2sqpcsUL9LVb1vqP9iVS0byp9VVRdMPW6vqgOHunOGfc7V/cgsXwMAAACw7c0swKiqJUnenOTJSQ5IcnRVHTCv2XFJru3un0zyhiR/miTd/e7uPrC7D0zynCSXd/cFU9s9a66+u789q9cAAAAAjMMsR2AcnGRld1/W3bckOT3J4fPaHJ7kncPyGUkeX1U1r83RSd47w34CAAAAIzfLAGPvJFdMra8ayhZs0923JrkuyZ7z2hyZ9QOMdwyXj7xsgcAjSVJVx1fViqpasWbNmjv7GgAAAIARmGWAsVCw0JvTpqp+McmN3X3RVP2zuvuhSf7T8HjOQk/e3Sd19/LuXr506dLN6zkAAAAwKrMMMFYl2XdqfZ8kV26oTVXtmGT3JNdM1R+VeaMvuvvfhp/XJ3lPJpeqAAAAANuxWQYY5yXZv6r2q6qdMwkjzpzX5swkxwzLRyT5dHd3klTVDkmekcncGRnKdqyqvYblnZI8JclFAQAAALZrO85qx919a1WdkOTsJEuSvL27L66qE5Os6O4zk5yc5NSqWpnJyIujpnbxmCSruvuyqbJdkpw9hBdLknwyyd/M6jUAAAAA4zCzACNJuvusJGfNK3v51PLaTEZZLLTtOUkeMa/se0kO2uIdBQAAAEZtlpeQAAAAAGwRAgwAAABg9AQYAAAAwOgJMAAAAIDRE2AAAAAAoyfAAAAAAEZPgAEAAACMngADAAAAGD0BBgAAADB6AgwAAABg9AQYAAAAwOgJMAAAAIDRE2AAAAAAoyfAAAAAAEZPgAEAAACMngADAAAAGD0BBgAAADB6AgwAAABg9AQYAAAAwOgJMAAAAIDRE2AAAAAAoyfAAAAAAEZPgAEAAACMngADAAAAGD0BBgAAADB6AgwAAABg9AQYAAAAwOgJMAAAAIDRE2AAAAAAoyfAAAAAAEZPgAEAAACMngADAAAAGD0BBgAAADB6AgwAAABg9GYaYFTVoVV1aVWtrKqXLFC/S1W9b6j/YlUtG8qXVdVNVXXB8PjrqW0OqqoLh23eVFU1y9cAAAAAbHszCzCqakmSNyd5cpIDkhxdVQfMa3Zckmu7+yeTvCHJn07VfaO7Dxwe/2Wq/K1Jjk+y//A4dFavAQAAABiHWY7AODjJyu6+rLtvSXJ6ksPntTk8yTuH5TOSPH5jIyqq6gFJ7tPdn+/uTvKuJE/b8l0HAAAAxmSWAcbeSa6YWl81lC3YprtvTXJdkj2Huv2q6l+q6jNV9Z+m2q/axD4BAACA7cyOM9z3QiMpepFtVid5YHdfXVUHJfm7qnrwIvc52XHV8ZlcapIHPvCBi+40AAAAMD6zHIGxKsm+U+v7JLlyQ22qasckuye5prtv7u6rk6S7z0/yjSQ/NbTfZxP7zLDdSd29vLuXL126dAu8HAAAAGBbmWWAcV6S/atqv6raOclRSc6c1+bMJMcMy0ck+XR3d1UtHSYBTVX9RCaTdV7W3auTXF9Vjxjmynhukr+f4WsAAAAARmBml5B0961VdUKSs5MsSfL27r64qk5MsqK7z0xycpJTq2plkmsyCTmS5DFJTqyqW5PcluS/dPc1Q93zk5ySZLckHxseAAAAwHZslnNgpLvPSnLWvLKXTy2vTfKMBbb7QJIPbGCfK5I8ZMv2FAAAABizWV5CAgAAALBFCDAAAACA0RNgAAAAAKMnwAAAAABGT4ABAAAAjJ4AAwAAABg9AQYAAAAwegIMAAAAYPQEGAAAAMDoCTAAAACA0RNgAAAAAKMnwAAAAABGT4ABAAAAjJ4AAwAAABg9AQYAAAAwegIMAAAAYPQEGAAAAMDoCTAAAACA0RNgAAAAAKMnwAAAAABGT4ABAAAAjJ4AAwAAABg9AQYAAAAwegIMAAAAYPQEGAAAAMDoCTAAAACA0RNgAAAAAKMnwAAAAABGT4ABAAAAjJ4AAwAAABg9AQYAAAAwegIMAAAAYPQEGAAAAMDoCTAAAACA0RNgAAAAAKM30wCjqg6tqkuramVVvWSB+l2q6n1D/ReratlQ/sSqOr+qLhx+Pm5qm3OGfV4wPH5klq8BAAAA2PZ2nNWOq2pJkjcneWKSVUnOq6ozu/uSqWbHJbm2u3+yqo5K8qdJjkxyVZKndveVVfWQJGcn2Xtqu2d194pZ9R0AAAAYl1mOwDg4ycruvqy7b0lyepLD57U5PMk7h+Uzkjy+qqq7/6W7rxzKL06ya1XtMsO+AgAAACM2ywBj7yRXTK2vyrqjKNZp0923JrkuyZ7z2jw9yb90981TZe8YLh95WVXVQk9eVcdX1YqqWrFmzZof5nUAAAAA29gsA4yFgoXenDZV9eBMLiv57an6Z3X3Q5P8p+HxnIWevLtP6u7l3b186dKlm9VxAAAAYFxmGWCsSrLv1Po+Sa7cUJuq2jHJ7kmuGdb3SfKhJM/t7m/MbdDd/zb8vD7JezK5VAUAAADYjs0ywDgvyf5VtV9V7ZzkqCRnzmtzZpJjhuUjkny6u7uq7pvko0le2t3/PNe4qnasqr2G5Z2SPCXJRTN8DQAAAMAIzCzAGOa0OCGTO4h8Ncn7u/viqjqxqg4bmp2cZM+qWpnkd5M0PXc7AAAPiUlEQVTM3Wr1hCQ/meRl826XukuSs6vqK0kuSPJvSf5mVq8BAAAAGIeZ3UY1Sbr7rCRnzSt7+dTy2iTPWGC71yR5zQZ2e9CW7CMAAAAwfrO8hAQAAABgixBgAAAAAKMnwAAAAABGT4ABAAAAjJ4AAwAAABg9AQYAAAAwegIMAAAAYPQEGAAAAMDoCTAAAACA0RNgAAAAAKMnwAAAAABGT4ABAAAAjJ4AAwAAABg9AQYAAAAwegIMAAAAYPQEGAAAAMDoCTAAAACA0RNgAAAAAKMnwAAAAABGT4ABAAAAjJ4AAwAAABg9AQYAAAAwegIMAAAAYPQEGAAAAMDoCTAAAACA0RNgAAAAAKMnwAAAAABGT4ABAAAAjJ4AAwAAABg9AQYAAAAwegIMAAAAYPQEGAAAAMDoCTAAAACA0RNgAAAAAKMnwAAAAABGb6YBRlUdWlWXVtXKqnrJAvW7VNX7hvovVtWyqbqXDuWXVtUvL3afAAAAwPZnZgFGVS1J8uYkT05yQJKjq+qAec2OS3Jtd/9kkjck+dNh2wOSHJXkwUkOTfKWqlqyyH0CAAAA25lZjsA4OMnK7r6su29JcnqSw+e1OTzJO4flM5I8vqpqKD+9u2/u7m8mWTnsbzH7BAAAALYzO85w33snuWJqfVWSX9xQm+6+taquS7LnUP6FedvuPSxvap9Jkqo6Psnxw+oNVXXpnXgNzMZeSa7a1p24S3tebeseMFuOkR+WY2R75xj5YTlG7g4cJz8Mx8jdgWPkh7Hlj5EfX0yjWQYYC72iXmSbDZUvNGJk/j4nhd0nJTlpYx1k26iqFd29fFv3A8bKMQIb5xiBTXOcwMY5Ru6aZnkJyaok+06t75Pkyg21qaodk+ye5JqNbLuYfQIAAADbmVkGGOcl2b+q9quqnTOZlPPMeW3OTHLMsHxEkk93dw/lRw13Kdkvyf5Jzl3kPgEAAIDtzMwuIRnmtDghydlJliR5e3dfXFUnJlnR3WcmOTnJqVW1MpORF0cN215cVe9PckmSW5P81+6+LUkW2uesXgMz49Ie2DjHCGycYwQ2zXECG+cYuQuqyYAHAAAAgPGa5SUkAAAAAFuEAAMAAAAYPQHG3VhVdVWdOrW+Y1WtqaqPzPh5T6mqb1bVBVX15ap6/CK2Obaqfmxq/W+r6oBZ9hOq6teG4+Rnfsj9nFJVR2xG+1dW1b8Nx8glVXX0IrZ52vQxUVUnVtUT7myfYWurqtumzgtfqqpHbes+wSxNvefnHi/ZRv3Y3HPUsqq6aJZ94q7p7v6envcZ5/9V1St+2H2yvplN4sldwveSPKSqduvum5I8Mcm/baXnfnF3n1FVj81kAp39N9H+2CQXZbhtbnc/b7bdgyTJ0Un+KZMJhl+5lZ/7Dd39uqraP8n5VXVGd39/I+2fluQjmUx+nO5++dboJGxBN3X3gUlSVb+c5I+T/Odt2yWYqR+852E7sd2+p6vq2CTLuvuVm2g69xln1ySXVNW7uvubM+/g3YgRGHwsya8Oy0cnee9cRVXds6reXlXnVdW/VNXhQ/myqvq/wzdkP/iWrKoOqapzquqMIXV8d1XVJp7/80n2nnrOlw/Pd1FVnVQTRyRZnuTdQ6K52/A8y4dtbqiq1w7f2n2hqu4/lD9oWD9v+Db6hi30O+NuoKruleSXkhyX4Q5JQ/khVfXZqvrQMDrir6tqh6Huhqp6/XBcfKqqli6w34Oq6jNVdX5VnV1VD9hYP7r760luTLLHsP1vDe/pL1fVB6rqHsMxeFiSPx+OkQdNf/tQVZdX1auGfl04N6KkqpZW1SeG8rdV1b9W1V5b5BcIP5z7JLk2mRyLw/E09/6dOxfds6o+OhwLF1XVkUP5Zh1jMCZVtXtVXVpVPz2sv7eqfmtYXvAcs9B5YSg/pareVFWfq6rLps4JVVV/NZzDPprkR6aef8HjZyj/clV9Psl/3bq/Fe7K7sbv6V2Hn98bnm+9zzhD+QuGfn+lqk4fyhb8DMaEAIPTkxxVk5Tw55J8caruD5J8ursfnuSxmXw4umeSbyd5Ync/LMmRSd40tc0vJHlhkgOS/EQmHwA35tAkfze1/lfd/fDufkiS3ZI8pbvPSLIiybO6+8BhtMi0eyb5Qnf/fJLPJvmtofwvk/zl0P8rN/WLgHmeluTj3f21JNdU1cOm6g5O8ntJHprkQUl+fSi/Z5IvDcfGZ5KsM3SwqnZK8r+THNHdByV5e5LXbqwTw/N+vbu/PRR9cDhGfj7JV5Mc192fS3JmJqn/gd39jQV2ddXQr7cmedFQ9opMjvGHJflQkgdu/FcCM7XbEMD9vyR/m+TVQ/naJL82vE8fm+T1wz9+hya5srt/fjhnfPzOHGOwDc295+ceR3b3dUlOSHJKVR2VZI/u/puh/YbOMeudF6ae4wFJHp3kKUn+ZCj7tSQ/nck57LeSzH0RtbHj5x1JXtDdj9zCvwO2L97Tw5dJSVYlOX3q/7f1PuMM5S9J8gvd/XNJ/stQtqHPYMQlJHd73f2VqlqWyeiLs+ZVPynJYVU192Fn10w+4FyZ5K+q6sAktyX5qaltzu3uVUkyHLzLMhmCP9+fV9WfZZKQPmKq/LFV9ftJ7pHkfkkuTvLhTbyMWzIZOp8k52dyKUySPDKTD6FJ8p4kr9vEfmDa0UneOCyfPqx/aVg/t7svSybfJGRyIj0jye1J3je0OS3JB+ft86eTPCTJJ4bgfUmS1Rt4/v8xfEPxE5l8UJvzkKp6TZL7JrlXkrMX+Xrm+nJ+7ghcHp3JST/d/fGqunaR+4JZmL6E5JFJ3lVVD0lSSf6oqh6TyTG2d5L7J7kwyeuq6k+TfKS7/+/QfrHHGGxrCw637+5PVNUzkrw5yc9PVW3oHLOx88LfdfftmQxlv/9Q9pgk7+3u25JcWVWfHsoXPEdV1e5J7tvdnxnanZrkyXf2RbNd267e01W1Z5JPDav3S7JzVc19tnhOd1+4wO9g7hKSeyX5VFU9aviiaUOfcb6SySjzv8sdX+pu6DPYVxd4vrsdAQbJ5Jvb1yU5JMmeU+WV5Ondfel046p6ZZL/yOQP0A6ZfDs25+ap5duy4ffYizP5I/WCJO9MctAwCuQtSZZ39xXD8+y6ge2nfb+7exHPCYsynLAel8kJtDM54fVw4kmSnrfJ/PUNlVeSixeZ9s/NgfHrmXyQe1B3r01ySpKndfeXa3I95iGL2Fdyx7E5fYxs6hIv2Ca6+/M1uZxpaZJfGX4e1N3fr6rLk+za3V+rqoOG+j+uqn/IZCTRYo8xGKWaXJb4s0luyuSDzqoNNJ07x5ySDZ8Xpv8vm/6bv9B5a8FzVFXddwPtYVHuqu/p7r46yVywfmwWNwfG3LY3VNU5SR5dVV/Khj/j/GomAcxhSV5WVQ/OBj6DMeESEpLJcKoTF0gRz07y36au0fqFoXz3JKuH9PM5mXy422zD9n+ZZIeaTNg2dyBfNaSW07MHX5/k3pv5FF9I8vRh+aiNNYR5jkjyru7+8e5e1t37JvlmJiMWkuTgqtpvOCEfmTtGGe2QO963v5H1Rx9dmmTp8O1yqmqn4US1Qd39wUwuoTpmKLp3Jt8e7JTkWVNN78wx8k9Jnjn05UkZ5tmAba0m87QsSXJ1Juecbw/hxWOT/PjQ5seS3Njdp2USwj8sd+IYgxH6H5l803p0krcPf++TDZ9jNnRe2JDPZnL58JJhPoDHDuULHj/d/Z0k11XV3DlwMc8B0+527+mq2jHJLyb5RjbwGWf4P3Lf7v7HJL+fdUecLPQZjPimmiTDJR9/uUDVqzMZQv+V4QC6PJPrtd6S5APDULB/zDA5zZ187h6GiP1+dz++qv4mk2HBlyc5b6rpKUn+uqpuyuTSkMV4YZLTqur3knw0yXV3tp/c7RydO66rnPOBTE6u78tk8tk/yeRay89m8q1vMjkWHlxV52fyfjtyegfdfUtNJpx60zB8ccdMjrGLN9GfE5O8Zzg+XpbJXDX/msmxMhdanJ7kb6rqBVk3/NuYVyV5b00mP/xMJkPtr1/ktrCl7TZcephMvn06prtvq6p3J/lwVa1IckGS/ze0eWgmlyPenuT7SZ7/QxxjsC1Mv+eT5OOZfKn0vCQHd/f1VfXZJH+YydwAGzrHbOi8sCEfymSU4YVJvpbJ3/9NnaN+M5MPnjdm8ZcucvfjPT05L/1hkp0zufzkg8PnnYU+4yzJ5LPK7pmc997Q3d+pqg19BiNJ3THyHrYvNZmx+Kbhj8ZRSY7ubrP48kOpqkOSvKi71zuRVNUN3X2vrd+rO6eqdklyW3ffOnw78dbt9fZnAHd1d7VzDGyK9zR3hhEYbM8OymSy0UrynST/3zbuD4zNA5O8fxjCeEvuuIMPAACMjhEYAAAAwOiZxBMAAAAYPQEGAAAAMHoCDAAAAGD0BBgAwMxU1a9VVVfVz2zrvsxXVTds6z4AAIsnwAAAZunoJP+U5KgtsbOqcgc1ALibEmAAADNRVfdK8ktJjssQYFTVIVX12ar6UFVdUlV/PdzKN1V1Q1W9vqq+VFWfqqqlQ/k5VfVHVfWZJP+9qn58qP/K8POBQ7unVtUXq+pfquqTVXX/uX5U1Tuq6sJhm6dP9fG1VfXlqvrCXHsAYJwEGADArDwtyce7+2tJrqmqhw3lByf5vSQPTfKgJL8+lN8zyZe6+2FJPpPkFVP7um93/+fufn2Sv0ryru7+uSTvTvKmoc0/JXlEd/9CktOT/P5Q/rIk13X3Q4dtPj31fF/o7p9P8tkkv7UFXzsAsIUJMACAWTk6kyAhw8+jh+Vzu/uy7r4tyXuTPHoovz3J+4bl06bKM1WeJI9M8p5h+dSpdvskObuqLkzy4iQPHsqfkOTNcxt397XD4i1JPjIsn59k2ea9PABga3IdKQCwxVXVnkkel+QhVdVJliTpJGcNP6fNX1+o/Hsbebq5dv87yV9095lVdUiSV851ZwPP8f3uniu/Lf4vAoBRMwIDAJiFIzK5zOPHu3tZd++b5JuZjJY4uKr2G+a+ODKTSz+Syf8lRwzLvzFVPt/ncsekoM+aard7kn8blo+Zav8PSU6YW6mqPe70qwIAthkBBgAwC0cn+dC8sg9kEkx8PsmfJLkok1Bjrt33kjy4qs7PZPTGiRvY9wuS/GZVfSXJc5L896H8lUn+T1X93yRXTbV/TZI9quqiqvpyksf+EK8LANhG6o6RkwAAszVc2vGi7n7KAnU3dPe9tn6vAIC7AiMwAAAAgNEzAgMAAAAYPSMwAAAAgNETYAAAAACjJ8AAAAAARk+AAQAAAIyeAAMAAAAYvf8fJLO5u12gOX4AAAAASUVORK5CYII=\n",
=======
      "image/png": "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\n",
>>>>>>> 1c5c670956ed5c8b5eeaef18457653475a7eacd2
      "text/plain": [
       "<Figure size 1080x432 with 1 Axes>"
      ]
     },
     "metadata": {
      "needs_background": "light"
     },
     "output_type": "display_data"
    }
   ],
   "source": [
<<<<<<< HEAD
    "fig, ax = plt.subplots(figsize=(15, 6))\n",
=======
    "ig, ax = plt.subplots(figsize=(15, 6))\n",
>>>>>>> 1c5c670956ed5c8b5eeaef18457653475a7eacd2
    "\n",
    "error_scores = np.array([\n",
    "    mean_rating_scores.mean(), -rating_only_scores.mean(), -base_scores.mean(), \n",
    "    -expanded_only_scores.mean(), -expanded_scores.mean(),\n",
    "])\n",
    "\n",
    "sns.barplot(\n",
    "    ['Mean Rating', 'Apple Rating', 'Base', 'Expanded', 'Expanded + Base'],\n",
    "    error_scores, color='orange', ax=ax)\n",
    "\n",
    "ax.axhline(-expanded_scores.mean(), ls='--', c='k')\n",
    "\n",
    "ax.set_xlabel('Approach')\n",
    "ax.set_ylabel('Mean Error')\n",
    "ax.legend(loc='upper center')\n",
<<<<<<< HEAD
    "plt.tight_layout()\n",
    "\n",
    "plt.savefig(result_dir + 'mean_error_graph.png')\n",
    "with open(result_dir + 'mean_error_description.txt', 'w') as f:\n",
    "    f.write('Mean prediction error.')"
=======
    "plt.tight_layout()"
>>>>>>> 1c5c670956ed5c8b5eeaef18457653475a7eacd2
   ]
  },
  {
   "cell_type": "code",
<<<<<<< HEAD
   "execution_count": 23,
=======
   "execution_count": 25,
>>>>>>> 1c5c670956ed5c8b5eeaef18457653475a7eacd2
   "metadata": {},
   "outputs": [],
   "source": [
    "X = df[base_features+expanded_features].reset_index(drop=True)\n",
    "y = df[prediction_feature].reset_index(drop=True)"
   ]
  },
  {
   "cell_type": "code",
<<<<<<< HEAD
   "execution_count": 24,
=======
   "execution_count": 26,
>>>>>>> 1c5c670956ed5c8b5eeaef18457653475a7eacd2
   "metadata": {},
   "outputs": [],
   "source": [
    "kf = KFold(n_splits=10)\n",
    "results = []\n",
    "\n",
    "for train_index, test_index in kf.split(X):\n",
    "    X_train, X_test = X.loc[train_index], X.loc[test_index]\n",
    "    y_train, y_test = y.loc[train_index], y.loc[test_index]\n",
    "\n",
    "    model = LinearRegression().fit(X_train, y_train)\n",
    "    \n",
    "    X_test['prediction'] = model.predict(X_test)\n",
    "    X_test['actual'] = y_test\n",
    "\n",
    "    results.append(X_test)\n",
    "\n",
    "results_df = pd.concat(results)"
   ]
  },
  {
   "cell_type": "code",
<<<<<<< HEAD
   "execution_count": 25,
=======
   "execution_count": 27,
>>>>>>> 1c5c670956ed5c8b5eeaef18457653475a7eacd2
   "metadata": {},
   "outputs": [],
   "source": [
    "results_df['abs_error'] = (results_df['prediction'] - results_df['actual']).abs()"
   ]
  },
  {
   "cell_type": "code",
<<<<<<< HEAD
   "execution_count": 26,
=======
   "execution_count": 28,
>>>>>>> 1c5c670956ed5c8b5eeaef18457653475a7eacd2
   "metadata": {},
   "outputs": [
    {
     "data": {
      "text/plain": [
       "count    604.000000\n",
<<<<<<< HEAD
       "mean       0.173728\n",
       "std        0.199517\n",
       "min        0.000239\n",
       "25%        0.062849\n",
       "50%        0.127204\n",
       "75%        0.221844\n",
       "max        2.304984\n",
       "Name: abs_error, dtype: float64"
      ]
     },
     "execution_count": 26,
=======
       "mean       0.174007\n",
       "std        0.199307\n",
       "min        0.000047\n",
       "25%        0.060739\n",
       "50%        0.128214\n",
       "75%        0.219306\n",
       "max        2.300451\n",
       "Name: abs_error, dtype: float64"
      ]
     },
     "execution_count": 28,
>>>>>>> 1c5c670956ed5c8b5eeaef18457653475a7eacd2
     "metadata": {},
     "output_type": "execute_result"
    }
   ],
   "source": [
    "results_df['abs_error'].describe()"
   ]
  },
  {
   "cell_type": "code",
<<<<<<< HEAD
   "execution_count": 27,
=======
   "execution_count": 29,
>>>>>>> 1c5c670956ed5c8b5eeaef18457653475a7eacd2
   "metadata": {},
   "outputs": [
    {
     "data": {
      "text/plain": [
<<<<<<< HEAD
       "<matplotlib.axes._subplots.AxesSubplot at 0x7f214f0ef940>"
      ]
     },
     "execution_count": 27,
=======
       "<matplotlib.axes._subplots.AxesSubplot at 0x7fd8793eea20>"
      ]
     },
     "execution_count": 29,
>>>>>>> 1c5c670956ed5c8b5eeaef18457653475a7eacd2
     "metadata": {},
     "output_type": "execute_result"
    },
    {
     "data": {
<<<<<<< HEAD
      "image/png": "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\n",
=======
      "image/png": "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\n",
>>>>>>> 1c5c670956ed5c8b5eeaef18457653475a7eacd2
      "text/plain": [
       "<Figure size 432x288 with 1 Axes>"
      ]
     },
     "metadata": {
      "needs_background": "light"
     },
     "output_type": "display_data"
    }
   ],
   "source": [
    "sns.regplot(x=\"actual\", y=\"abs_error\", data=results_df[results_df['actual']>2.5],scatter_kws={\"s\": 40, 'alpha':.5},order=3)"
   ]
<<<<<<< HEAD
  },
  {
   "cell_type": "markdown",
   "metadata": {},
   "source": [
    "This model has better performance when it makes predictions for apps that have ratings in the range [4.0, 4.7]."
   ]
=======
>>>>>>> 1c5c670956ed5c8b5eeaef18457653475a7eacd2
  }
 ],
 "metadata": {
  "kernelspec": {
   "display_name": "Python 3",
   "language": "python",
   "name": "python3"
  },
  "language_info": {
   "codemirror_mode": {
    "name": "ipython",
    "version": 3
   },
   "file_extension": ".py",
   "mimetype": "text/x-python",
   "name": "python",
   "nbconvert_exporter": "python",
   "pygments_lexer": "ipython3",
   "version": "3.6.8"
  }
 },
 "nbformat": 4,
 "nbformat_minor": 2
}
