{
 "cells": [
  {
   "cell_type": "markdown",
   "metadata": {},
   "source": [
    "# RQ4 - Can we predict an app's rating on Google Play based on its rating from Apple Store, or vice versa?\n",
    "\n",
    "__Purpose__\n",
    "\n",
    "In this notebook we will predict an app's google rating based on its apple rating. From such a task, we can tell those IOS developers whether they can achieve high ratings if they release their apps on Google Play."
   ]
  },
  {
   "cell_type": "code",
   "execution_count": 1,
   "metadata": {},
   "outputs": [],
   "source": [
    "from os.path import exists, isfile\n",
    "\n",
    "import pandas as pd\n",
    "import numpy as np\n",
    "\n",
    "from matplotlib.pylab import plt\n",
    "import seaborn as sns\n",
    "\n",
    "import scipy.stats as stats\n",
    "from sklearn.linear_model import LinearRegression\n",
    "from sklearn.model_selection import train_test_split, cross_val_score, KFold\n",
    "from sklearn.metrics import accuracy_score\n",
    "\n",
    "from nltk.corpus import stopwords\n",
    "from textblob import Word\n",
    "from textblob import TextBlob"
   ]
  },
  {
   "cell_type": "markdown",
   "metadata": {},
   "source": [
    "# Load dataset"
   ]
  },
  {
   "cell_type": "code",
   "execution_count": 2,
   "metadata": {},
   "outputs": [
    {
     "data": {
      "text/html": [
       "<div>\n",
       "<style scoped>\n",
       "    .dataframe tbody tr th:only-of-type {\n",
       "        vertical-align: middle;\n",
       "    }\n",
       "\n",
       "    .dataframe tbody tr th {\n",
       "        vertical-align: top;\n",
       "    }\n",
       "\n",
       "    .dataframe thead th {\n",
       "        text-align: right;\n",
       "    }\n",
       "</style>\n",
       "<table border=\"1\" class=\"dataframe\">\n",
       "  <thead>\n",
       "    <tr style=\"text-align: right;\">\n",
       "      <th></th>\n",
       "      <th>apple_id</th>\n",
       "      <th>trim_title</th>\n",
       "      <th>apple_title</th>\n",
       "      <th>genre</th>\n",
       "      <th>apple_rating</th>\n",
       "      <th>apple_reviews</th>\n",
       "      <th>apple_size</th>\n",
       "      <th>pegi</th>\n",
       "      <th>normed_apple_rating</th>\n",
       "      <th>google_title</th>\n",
       "      <th>...</th>\n",
       "      <th>log_google_reviews</th>\n",
       "      <th>log_apple_reviews</th>\n",
       "      <th>z_score_google_rating</th>\n",
       "      <th>z_score_apple_rating</th>\n",
       "      <th>z_score_google_sub_apple</th>\n",
       "      <th>norm_google_sub_apple</th>\n",
       "      <th>google_revenue</th>\n",
       "      <th>apple_revenue</th>\n",
       "      <th>log_google_revenue</th>\n",
       "      <th>log_apple_revenue</th>\n",
       "    </tr>\n",
       "  </thead>\n",
       "  <tbody>\n",
       "    <tr>\n",
       "      <th>0</th>\n",
       "      <td>898968647</td>\n",
       "      <td>Call of Duty®</td>\n",
       "      <td>Call of Duty®: Heroes</td>\n",
       "      <td>Games</td>\n",
       "      <td>4.5</td>\n",
       "      <td>179416</td>\n",
       "      <td>201.075195</td>\n",
       "      <td>Teen</td>\n",
       "      <td>0.9</td>\n",
       "      <td>Call of Duty®: Heroes</td>\n",
       "      <td>...</td>\n",
       "      <td>6.205244</td>\n",
       "      <td>5.253861</td>\n",
       "      <td>0.449144</td>\n",
       "      <td>0.638043</td>\n",
       "      <td>-0.188899</td>\n",
       "      <td>-0.02</td>\n",
       "      <td>0.00</td>\n",
       "      <td>0.00</td>\n",
       "      <td>NaN</td>\n",
       "      <td>NaN</td>\n",
       "    </tr>\n",
       "    <tr>\n",
       "      <th>1</th>\n",
       "      <td>1147297267</td>\n",
       "      <td>Dont Starve</td>\n",
       "      <td>Don't Starve: Shipwrecked</td>\n",
       "      <td>Games</td>\n",
       "      <td>3.5</td>\n",
       "      <td>495</td>\n",
       "      <td>604.341797</td>\n",
       "      <td>Everyone 10+</td>\n",
       "      <td>0.7</td>\n",
       "      <td>Don't Starve: Shipwrecked</td>\n",
       "      <td>...</td>\n",
       "      <td>3.166726</td>\n",
       "      <td>2.694605</td>\n",
       "      <td>-0.143135</td>\n",
       "      <td>-0.806018</td>\n",
       "      <td>0.662884</td>\n",
       "      <td>0.12</td>\n",
       "      <td>7325.32</td>\n",
       "      <td>2470.05</td>\n",
       "      <td>3.864827</td>\n",
       "      <td>3.392706</td>\n",
       "    </tr>\n",
       "    <tr>\n",
       "      <th>2</th>\n",
       "      <td>352670055</td>\n",
       "      <td>F</td>\n",
       "      <td>F-Sim Space Shuttle</td>\n",
       "      <td>Games</td>\n",
       "      <td>4.5</td>\n",
       "      <td>6403</td>\n",
       "      <td>72.855469</td>\n",
       "      <td>Everyone</td>\n",
       "      <td>0.9</td>\n",
       "      <td>F-Sim Space Shuttle</td>\n",
       "      <td>...</td>\n",
       "      <td>3.734560</td>\n",
       "      <td>3.806384</td>\n",
       "      <td>0.449144</td>\n",
       "      <td>0.638043</td>\n",
       "      <td>-0.188899</td>\n",
       "      <td>-0.02</td>\n",
       "      <td>27080.73</td>\n",
       "      <td>31950.97</td>\n",
       "      <td>4.432660</td>\n",
       "      <td>4.504484</td>\n",
       "    </tr>\n",
       "    <tr>\n",
       "      <th>3</th>\n",
       "      <td>763692274</td>\n",
       "      <td>Grand Theft Auto</td>\n",
       "      <td>Grand Theft Auto: San Andreas</td>\n",
       "      <td>Games</td>\n",
       "      <td>4.0</td>\n",
       "      <td>32533</td>\n",
       "      <td>1964.965820</td>\n",
       "      <td>Mature 17+</td>\n",
       "      <td>0.8</td>\n",
       "      <td>Grand Theft Auto: San Andreas</td>\n",
       "      <td>...</td>\n",
       "      <td>5.542778</td>\n",
       "      <td>4.512324</td>\n",
       "      <td>0.449144</td>\n",
       "      <td>-0.083987</td>\n",
       "      <td>0.533131</td>\n",
       "      <td>0.08</td>\n",
       "      <td>2439244.38</td>\n",
       "      <td>227405.67</td>\n",
       "      <td>6.387255</td>\n",
       "      <td>5.356801</td>\n",
       "    </tr>\n",
       "    <tr>\n",
       "      <th>4</th>\n",
       "      <td>771989093</td>\n",
       "      <td>LEGO® Friends</td>\n",
       "      <td>LEGO® Friends</td>\n",
       "      <td>Games</td>\n",
       "      <td>4.0</td>\n",
       "      <td>400</td>\n",
       "      <td>730.941406</td>\n",
       "      <td>Everyone</td>\n",
       "      <td>0.8</td>\n",
       "      <td>LEGO® Friends</td>\n",
       "      <td>...</td>\n",
       "      <td>2.931458</td>\n",
       "      <td>2.602060</td>\n",
       "      <td>0.449144</td>\n",
       "      <td>-0.083987</td>\n",
       "      <td>0.533131</td>\n",
       "      <td>0.08</td>\n",
       "      <td>4261.46</td>\n",
       "      <td>1996.00</td>\n",
       "      <td>3.629558</td>\n",
       "      <td>3.300161</td>\n",
       "    </tr>\n",
       "  </tbody>\n",
       "</table>\n",
       "<p>5 rows × 25 columns</p>\n",
       "</div>"
      ],
      "text/plain": [
       "     apple_id        trim_title                    apple_title  genre  \\\n",
       "0   898968647     Call of Duty®          Call of Duty®: Heroes  Games   \n",
       "1  1147297267       Dont Starve      Don't Starve: Shipwrecked  Games   \n",
       "2   352670055                 F            F-Sim Space Shuttle  Games   \n",
       "3   763692274  Grand Theft Auto  Grand Theft Auto: San Andreas  Games   \n",
       "4   771989093     LEGO® Friends                  LEGO® Friends  Games   \n",
       "\n",
       "   apple_rating  apple_reviews   apple_size          pegi  \\\n",
       "0           4.5         179416   201.075195          Teen   \n",
       "1           3.5            495   604.341797  Everyone 10+   \n",
       "2           4.5           6403    72.855469      Everyone   \n",
       "3           4.0          32533  1964.965820    Mature 17+   \n",
       "4           4.0            400   730.941406      Everyone   \n",
       "\n",
       "   normed_apple_rating                   google_title  ...  \\\n",
       "0                  0.9          Call of Duty®: Heroes  ...   \n",
       "1                  0.7      Don't Starve: Shipwrecked  ...   \n",
       "2                  0.9            F-Sim Space Shuttle  ...   \n",
       "3                  0.8  Grand Theft Auto: San Andreas  ...   \n",
       "4                  0.8                  LEGO® Friends  ...   \n",
       "\n",
       "   log_google_reviews  log_apple_reviews  z_score_google_rating  \\\n",
       "0            6.205244           5.253861               0.449144   \n",
       "1            3.166726           2.694605              -0.143135   \n",
       "2            3.734560           3.806384               0.449144   \n",
       "3            5.542778           4.512324               0.449144   \n",
       "4            2.931458           2.602060               0.449144   \n",
       "\n",
       "   z_score_apple_rating  z_score_google_sub_apple  norm_google_sub_apple  \\\n",
       "0              0.638043                 -0.188899                  -0.02   \n",
       "1             -0.806018                  0.662884                   0.12   \n",
       "2              0.638043                 -0.188899                  -0.02   \n",
       "3             -0.083987                  0.533131                   0.08   \n",
       "4             -0.083987                  0.533131                   0.08   \n",
       "\n",
       "   google_revenue  apple_revenue  log_google_revenue  log_apple_revenue  \n",
       "0            0.00           0.00                 NaN                NaN  \n",
       "1         7325.32        2470.05            3.864827           3.392706  \n",
       "2        27080.73       31950.97            4.432660           4.504484  \n",
       "3      2439244.38      227405.67            6.387255           5.356801  \n",
       "4         4261.46        1996.00            3.629558           3.300161  \n",
       "\n",
       "[5 rows x 25 columns]"
      ]
     },
     "execution_count": 2,
     "metadata": {},
     "output_type": "execute_result"
    }
   ],
   "source": [
    "if not exists(\"../../datasets/2300_combine_kaggle_datasets.csv\"):\n",
    "    print (\"Missing dataset file\")\n",
    "    \n",
    "df=pd.read_csv(\"../../datasets/2300_combine_kaggle_datasets.csv\")\n",
    "df.head()"
   ]
  },
  {
   "cell_type": "code",
   "execution_count": 3,
   "metadata": {},
   "outputs": [],
   "source": [
    "result_dir = '../../results/'"
   ]
  },
  {
   "cell_type": "markdown",
   "metadata": {},
   "source": [
    "# Prepare the data\n",
    "\n",
    "Before we are going to predict an app's google rating, we first decide that we will only use its apple rating, genre and pegi rating as features contributing to the predicting. This is because from the last 3 notebooks, we notice that only these 3 features have impacts on apps' ratings, but not size, price or number of reviews."
   ]
  },
  {
   "cell_type": "code",
   "execution_count": 4,
   "metadata": {},
   "outputs": [],
   "source": [
    "prediction_feature = ['google_rating']\n",
    "numeric_features = ['apple_rating']"
   ]
  },
  {
   "cell_type": "markdown",
   "metadata": {},
   "source": [
    "To take adcantage of features like genre and pegi rating, we have to transform these categorical features into numerical features so that we can apply linear regression model to them. We simply use one-hot encoding."
   ]
  },
  {
   "cell_type": "code",
   "execution_count": 5,
   "metadata": {},
   "outputs": [
    {
     "data": {
      "text/plain": [
       "(604, 15)"
      ]
     },
     "execution_count": 5,
     "metadata": {},
     "output_type": "execute_result"
    }
   ],
   "source": [
    "categorical_features= ['genre', 'pegi']\n",
    "one_hot_encodings = pd.get_dummies(df[categorical_features], drop_first=True)\n",
    "one_hot_encodings.shape"
   ]
  },
  {
   "cell_type": "code",
   "execution_count": 6,
   "metadata": {},
   "outputs": [
    {
     "data": {
      "text/html": [
       "<div>\n",
       "<style scoped>\n",
       "    .dataframe tbody tr th:only-of-type {\n",
       "        vertical-align: middle;\n",
       "    }\n",
       "\n",
       "    .dataframe tbody tr th {\n",
       "        vertical-align: top;\n",
       "    }\n",
       "\n",
       "    .dataframe thead th {\n",
       "        text-align: right;\n",
       "    }\n",
       "</style>\n",
       "<table border=\"1\" class=\"dataframe\">\n",
       "  <thead>\n",
       "    <tr style=\"text-align: right;\">\n",
       "      <th></th>\n",
       "      <th>genre_Books &amp; Reference</th>\n",
       "      <th>genre_Business</th>\n",
       "      <th>genre_Education</th>\n",
       "      <th>genre_Entertainment</th>\n",
       "      <th>genre_Food &amp; Drink</th>\n",
       "      <th>genre_Games</th>\n",
       "      <th>genre_Health &amp; Fitness</th>\n",
       "      <th>genre_Lifestyle</th>\n",
       "      <th>genre_News</th>\n",
       "      <th>genre_Others</th>\n",
       "      <th>genre_Social Networking</th>\n",
       "      <th>genre_Utilities</th>\n",
       "      <th>pegi_Everyone 10+</th>\n",
       "      <th>pegi_Mature 17+</th>\n",
       "      <th>pegi_Teen</th>\n",
       "    </tr>\n",
       "  </thead>\n",
       "  <tbody>\n",
       "    <tr>\n",
       "      <th>0</th>\n",
       "      <td>0</td>\n",
       "      <td>0</td>\n",
       "      <td>0</td>\n",
       "      <td>0</td>\n",
       "      <td>0</td>\n",
       "      <td>1</td>\n",
       "      <td>0</td>\n",
       "      <td>0</td>\n",
       "      <td>0</td>\n",
       "      <td>0</td>\n",
       "      <td>0</td>\n",
       "      <td>0</td>\n",
       "      <td>0</td>\n",
       "      <td>0</td>\n",
       "      <td>1</td>\n",
       "    </tr>\n",
       "    <tr>\n",
       "      <th>1</th>\n",
       "      <td>0</td>\n",
       "      <td>0</td>\n",
       "      <td>0</td>\n",
       "      <td>0</td>\n",
       "      <td>0</td>\n",
       "      <td>1</td>\n",
       "      <td>0</td>\n",
       "      <td>0</td>\n",
       "      <td>0</td>\n",
       "      <td>0</td>\n",
       "      <td>0</td>\n",
       "      <td>0</td>\n",
       "      <td>1</td>\n",
       "      <td>0</td>\n",
       "      <td>0</td>\n",
       "    </tr>\n",
       "    <tr>\n",
       "      <th>2</th>\n",
       "      <td>0</td>\n",
       "      <td>0</td>\n",
       "      <td>0</td>\n",
       "      <td>0</td>\n",
       "      <td>0</td>\n",
       "      <td>1</td>\n",
       "      <td>0</td>\n",
       "      <td>0</td>\n",
       "      <td>0</td>\n",
       "      <td>0</td>\n",
       "      <td>0</td>\n",
       "      <td>0</td>\n",
       "      <td>0</td>\n",
       "      <td>0</td>\n",
       "      <td>0</td>\n",
       "    </tr>\n",
       "    <tr>\n",
       "      <th>3</th>\n",
       "      <td>0</td>\n",
       "      <td>0</td>\n",
       "      <td>0</td>\n",
       "      <td>0</td>\n",
       "      <td>0</td>\n",
       "      <td>1</td>\n",
       "      <td>0</td>\n",
       "      <td>0</td>\n",
       "      <td>0</td>\n",
       "      <td>0</td>\n",
       "      <td>0</td>\n",
       "      <td>0</td>\n",
       "      <td>0</td>\n",
       "      <td>1</td>\n",
       "      <td>0</td>\n",
       "    </tr>\n",
       "    <tr>\n",
       "      <th>4</th>\n",
       "      <td>0</td>\n",
       "      <td>0</td>\n",
       "      <td>0</td>\n",
       "      <td>0</td>\n",
       "      <td>0</td>\n",
       "      <td>1</td>\n",
       "      <td>0</td>\n",
       "      <td>0</td>\n",
       "      <td>0</td>\n",
       "      <td>0</td>\n",
       "      <td>0</td>\n",
       "      <td>0</td>\n",
       "      <td>0</td>\n",
       "      <td>0</td>\n",
       "      <td>0</td>\n",
       "    </tr>\n",
       "  </tbody>\n",
       "</table>\n",
       "</div>"
      ],
      "text/plain": [
       "   genre_Books & Reference  genre_Business  genre_Education  \\\n",
       "0                        0               0                0   \n",
       "1                        0               0                0   \n",
       "2                        0               0                0   \n",
       "3                        0               0                0   \n",
       "4                        0               0                0   \n",
       "\n",
       "   genre_Entertainment  genre_Food & Drink  genre_Games  \\\n",
       "0                    0                   0            1   \n",
       "1                    0                   0            1   \n",
       "2                    0                   0            1   \n",
       "3                    0                   0            1   \n",
       "4                    0                   0            1   \n",
       "\n",
       "   genre_Health & Fitness  genre_Lifestyle  genre_News  genre_Others  \\\n",
       "0                       0                0           0             0   \n",
       "1                       0                0           0             0   \n",
       "2                       0                0           0             0   \n",
       "3                       0                0           0             0   \n",
       "4                       0                0           0             0   \n",
       "\n",
       "   genre_Social Networking  genre_Utilities  pegi_Everyone 10+  \\\n",
       "0                        0                0                  0   \n",
       "1                        0                0                  1   \n",
       "2                        0                0                  0   \n",
       "3                        0                0                  0   \n",
       "4                        0                0                  0   \n",
       "\n",
       "   pegi_Mature 17+  pegi_Teen  \n",
       "0                0          1  \n",
       "1                0          0  \n",
       "2                0          0  \n",
       "3                1          0  \n",
       "4                0          0  "
      ]
     },
     "execution_count": 6,
     "metadata": {},
     "output_type": "execute_result"
    }
   ],
   "source": [
    "one_hot_encodings.head()"
   ]
  },
  {
   "cell_type": "code",
   "execution_count": 7,
   "metadata": {},
   "outputs": [
    {
     "data": {
      "text/plain": [
       "(604, 40)"
      ]
     },
     "execution_count": 7,
     "metadata": {},
     "output_type": "execute_result"
    }
   ],
   "source": [
    "df = pd.concat([df, one_hot_encodings], axis=1)\n",
    "df.shape"
   ]
  },
  {
   "cell_type": "code",
   "execution_count": 8,
   "metadata": {},
   "outputs": [],
   "source": [
    "categorical_features = list(one_hot_encodings.columns)"
   ]
  },
  {
   "cell_type": "code",
   "execution_count": 9,
   "metadata": {},
   "outputs": [
    {
     "data": {
      "text/plain": [
       "apple_rating               0\n",
       "genre_Books & Reference    0\n",
       "genre_Business             0\n",
       "genre_Education            0\n",
       "genre_Entertainment        0\n",
       "genre_Food & Drink         0\n",
       "genre_Games                0\n",
       "genre_Health & Fitness     0\n",
       "genre_Lifestyle            0\n",
       "genre_News                 0\n",
       "genre_Others               0\n",
       "genre_Social Networking    0\n",
       "genre_Utilities            0\n",
       "pegi_Everyone 10+          0\n",
       "pegi_Mature 17+            0\n",
       "pegi_Teen                  0\n",
       "google_rating              0\n",
       "dtype: int64"
      ]
     },
     "execution_count": 9,
     "metadata": {},
     "output_type": "execute_result"
    }
   ],
   "source": [
    "base_features = numeric_features + categorical_features \n",
    "data = df[base_features + prediction_feature].copy()\n",
    "data.isnull().sum()"
   ]
  },
  {
   "cell_type": "markdown",
   "metadata": {},
   "source": [
    "# Linear Regression"
   ]
  },
  {
   "cell_type": "code",
   "execution_count": 10,
   "metadata": {},
   "outputs": [
    {
     "data": {
      "text/plain": [
       "0.29905773053200035"
      ]
     },
     "execution_count": 10,
     "metadata": {},
     "output_type": "execute_result"
    }
   ],
   "source": [
    "model = LinearRegression().fit(data[base_features], data[prediction_feature])\n",
    "model.score(data[base_features], data[prediction_feature])"
   ]
  },
  {
   "cell_type": "markdown",
   "metadata": {},
   "source": [
    "This is a weak-moderate fit because only 30% of the variation in the target prediction is explained by training data."
   ]
  },
  {
   "cell_type": "markdown",
   "metadata": {},
   "source": [
    "# Extra feature\n",
    "\n",
    "We have not use the title of each app yet. To take advantage of such a feature, we consider using the sentiment of it. If we have many words from apps' titles, we might be able to use methods like TF-IDF to improve our predictions by utilizing apps' titles as a new feature. However, in this project this will only lead to worse result. "
   ]
  },
  {
   "cell_type": "code",
   "execution_count": 11,
   "metadata": {},
   "outputs": [],
   "source": [
    "df['apple_title'] = df['apple_title'].apply(lambda x: \" \".join(x.lower() for x in x.split()))\n",
    "df['apple_title']  = df['apple_title'] .str.replace('[^\\w\\s]','')"
   ]
  },
  {
   "cell_type": "code",
   "execution_count": 12,
   "metadata": {},
   "outputs": [
    {
     "data": {
      "text/plain": [
       "0                call duty heroes\n",
       "1         dont starve shipwrecked\n",
       "2              fsim space shuttle\n",
       "3    grand theft auto san andreas\n",
       "4                    lego friends\n",
       "Name: apple_title, dtype: object"
      ]
     },
     "execution_count": 12,
     "metadata": {},
     "output_type": "execute_result"
    }
   ],
   "source": [
    "stop = stopwords.words('english')\n",
    "\n",
    "df['apple_title'] = df['apple_title'].apply(lambda x: \" \".join(x for x in x.split() if x not in stop))\n",
    "df['apple_title'].head()"
   ]
  },
  {
   "cell_type": "code",
   "execution_count": 13,
   "metadata": {},
   "outputs": [
    {
     "data": {
      "text/plain": [
       "epson        1\n",
       "fightersi    1\n",
       "bookstore    1\n",
       "kombat       1\n",
       "ok           1\n",
       "dtype: int64"
      ]
     },
     "execution_count": 13,
     "metadata": {},
     "output_type": "execute_result"
    }
   ],
   "source": [
    "freq = pd.Series(' '.join(df['apple_title']).split()).value_counts()[-5:]\n",
    "freq"
   ]
  },
  {
   "cell_type": "code",
   "execution_count": 14,
   "metadata": {},
   "outputs": [
    {
     "data": {
      "text/plain": [
       "0                  call duty hero\n",
       "1         dont starve shipwrecked\n",
       "2              fsim space shuttle\n",
       "3    grand theft auto san andreas\n",
       "4                     lego friend\n",
       "Name: apple_title, dtype: object"
      ]
     },
     "execution_count": 14,
     "metadata": {},
     "output_type": "execute_result"
    }
   ],
   "source": [
    "df['apple_title'] = df['apple_title'].apply(lambda x: \" \".join([Word(word).lemmatize() for word in x.split()]))\n",
    "df['apple_title'].head()"
   ]
  },
  {
   "cell_type": "code",
   "execution_count": 15,
   "metadata": {},
   "outputs": [
    {
     "data": {
      "text/plain": [
       "0    0.0\n",
       "1    0.0\n",
       "2    0.0\n",
       "3    0.5\n",
       "4    0.0\n",
       "Name: sentiment, dtype: float64"
      ]
     },
     "execution_count": 15,
     "metadata": {},
     "output_type": "execute_result"
    }
   ],
   "source": [
    "df['sentiment'] = df['apple_title'].apply(lambda x: TextBlob(x).sentiment[0])\n",
    "df['sentiment'].head()"
   ]
  },
  {
   "cell_type": "code",
   "execution_count": 16,
   "metadata": {},
   "outputs": [],
   "source": [
    "expanded_features = ['sentiment'] "
   ]
  },
  {
   "cell_type": "markdown",
   "metadata": {},
   "source": [
    "# Evaluating Predictions with Cross-Fold Validation\n",
    "\n",
    "We choose to use median value of apps' apple ratings to predict apps' google ratings as a baseline. Also, we will see how much pegi rating, genre and title's sentiment help to predict the google ratings by making predictions only based on apps' apple ratings to make a comparison."
   ]
  },
  {
   "cell_type": "code",
   "execution_count": 17,
   "metadata": {},
   "outputs": [
    {
     "data": {
      "text/plain": [
       "-0.16863300998581704"
      ]
     },
     "execution_count": 17,
     "metadata": {},
     "output_type": "execute_result"
    }
   ],
   "source": [
    "expanded_only_scores = cross_val_score(\n",
    "            model, df[expanded_features], \n",
    "            data[prediction_feature], \n",
    "            cv=10,\n",
    "            scoring='neg_median_absolute_error'\n",
    ")\n",
    "\n",
    "expanded_only_scores.mean()"
   ]
  },
  {
   "cell_type": "code",
   "execution_count": 18,
   "metadata": {},
   "outputs": [
    {
     "data": {
      "text/plain": [
       "-0.13133587725815304"
      ]
     },
     "execution_count": 18,
     "metadata": {},
     "output_type": "execute_result"
    }
   ],
   "source": [
    "base_scores = cross_val_score(\n",
    "            model, data[base_features], \n",
    "            data[prediction_feature], \n",
    "            cv=10,\n",
    "            scoring='neg_median_absolute_error'\n",
    ")\n",
    "\n",
    "base_scores.mean()"
   ]
  },
  {
   "cell_type": "code",
   "execution_count": 19,
   "metadata": {},
   "outputs": [
    {
     "data": {
      "text/plain": [
       "-0.13088117589230136"
      ]
     },
     "execution_count": 19,
     "metadata": {},
     "output_type": "execute_result"
    }
   ],
   "source": [
    "expanded_scores = cross_val_score(\n",
    "            model, df[base_features+expanded_features], \n",
    "            df[prediction_feature], \n",
    "            cv=10,\n",
    "            scoring='neg_median_absolute_error'\n",
    ")\n",
    "\n",
    "expanded_scores.mean()"
   ]
  },
  {
   "cell_type": "code",
   "execution_count": 20,
   "metadata": {},
   "outputs": [
    {
     "data": {
      "text/plain": [
       "0.20529801324503258"
      ]
     },
     "execution_count": 20,
     "metadata": {},
     "output_type": "execute_result"
    }
   ],
   "source": [
    "mean_rating_scores = (df['google_rating']-df['google_rating'].median()).abs()\n",
    "mean_rating_scores.mean()"
   ]
  },
  {
   "cell_type": "code",
   "execution_count": 21,
   "metadata": {},
   "outputs": [
    {
     "data": {
      "text/plain": [
       "-0.13412837400219746"
      ]
     },
     "execution_count": 21,
     "metadata": {},
     "output_type": "execute_result"
    }
   ],
   "source": [
    "rating_only_scores = cross_val_score(\n",
    "            model, data[['apple_rating']], \n",
    "            data[prediction_feature], \n",
    "            cv=10,                               \n",
    "            scoring='neg_median_absolute_error'  \n",
    ")\n",
    "\n",
    "rating_only_scores.mean()"
   ]
  },
  {
   "cell_type": "code",
   "execution_count": 22,
   "metadata": {},
   "outputs": [
    {
     "name": "stderr",
     "output_type": "stream",
     "text": [
      "No handles with labels found to put in legend.\n"
     ]
    },
    {
     "data": {
      "image/png": "[encoded data removed]",
      "text/plain": [
       "<Figure size 1080x432 with 1 Axes>"
      ]
     },
     "metadata": {
      "needs_background": "light"
     },
     "output_type": "display_data"
    }
   ],
   "source": [
    "fig, ax = plt.subplots(figsize=(15, 6))\n",
    "\n",
    "error_scores = np.array([\n",
    "    mean_rating_scores.mean(), -rating_only_scores.mean(), -base_scores.mean(), \n",
    "    -expanded_only_scores.mean(), -expanded_scores.mean(),\n",
    "])\n",
    "\n",
    "sns.barplot(\n",
    "    ['Mean Rating', 'Apple Rating', 'Base', 'Expanded', 'Expanded + Base'],\n",
    "    error_scores, color='orange', ax=ax)\n",
    "\n",
    "ax.axhline(-expanded_scores.mean(), ls='--', c='k')\n",
    "\n",
    "ax.set_xlabel('Approach')\n",
    "ax.set_ylabel('Mean Error')\n",
    "ax.legend(loc='upper center')\n",
    "plt.tight_layout()\n",
    "\n",
    "plt.savefig(result_dir + 'mean_error_graph.png')\n",
    "with open(result_dir + 'mean_error_description.txt', 'w') as f:\n",
    "    f.write('Mean prediction error.')"
   ]
  },
  {
   "cell_type": "code",
   "execution_count": 23,
   "metadata": {},
   "outputs": [],
   "source": [
    "X = df[base_features+expanded_features].reset_index(drop=True)\n",
    "y = df[prediction_feature].reset_index(drop=True)"
   ]
  },
  {
   "cell_type": "code",
   "execution_count": 24,
   "metadata": {},
   "outputs": [],
   "source": [
    "kf = KFold(n_splits=10)\n",
    "results = []\n",
    "\n",
    "for train_index, test_index in kf.split(X):\n",
    "    X_train, X_test = X.loc[train_index], X.loc[test_index]\n",
    "    y_train, y_test = y.loc[train_index], y.loc[test_index]\n",
    "\n",
    "    model = LinearRegression().fit(X_train, y_train)\n",
    "    \n",
    "    X_test['prediction'] = model.predict(X_test)\n",
    "    X_test['actual'] = y_test\n",
    "\n",
    "    results.append(X_test)\n",
    "\n",
    "results_df = pd.concat(results)"
   ]
  },
  {
   "cell_type": "code",
   "execution_count": 25,
   "metadata": {},
   "outputs": [],
   "source": [
    "results_df['abs_error'] = (results_df['prediction'] - results_df['actual']).abs()"
   ]
  },
  {
   "cell_type": "code",
   "execution_count": 26,
   "metadata": {},
   "outputs": [
    {
     "data": {
      "text/plain": [
       "count    604.000000\n",
       "mean       0.173728\n",
       "std        0.199517\n",
       "min        0.000239\n",
       "25%        0.062849\n",
       "50%        0.127204\n",
       "75%        0.221844\n",
       "max        2.304984\n",
       "Name: abs_error, dtype: float64"
      ]
     },
     "execution_count": 26,
     "metadata": {},
     "output_type": "execute_result"
    }
   ],
   "source": [
    "results_df['abs_error'].describe()"
   ]
  },
  {
   "cell_type": "code",
   "execution_count": 27,
   "metadata": {},
   "outputs": [
    {
     "data": {
      "text/plain": [
       "<matplotlib.axes._subplots.AxesSubplot at 0x7f214f0ef940>"
      ]
     },
     "execution_count": 27,
     "metadata": {},
     "output_type": "execute_result"
    },
    {
     "data": {
      "image/png": "[encoded data removed]",
      "text/plain": [
       "<Figure size 432x288 with 1 Axes>"
      ]
     },
     "metadata": {
      "needs_background": "light"
     },
     "output_type": "display_data"
    }
   ],
   "source": [
    "sns.regplot(x=\"actual\", y=\"abs_error\", data=results_df[results_df['actual']>2.5],scatter_kws={\"s\": 40, 'alpha':.5},order=3)"
   ]
  },
  {
   "cell_type": "markdown",
   "metadata": {},
   "source": [
    "This model has better performance when it makes predictions for apps that have ratings in the range [4.0, 4.7]."
   ]
  }
 ],
 "metadata": {
  "kernelspec": {
   "display_name": "Python 3",
   "language": "python",
   "name": "python3"
  },
  "language_info": {
   "codemirror_mode": {
    "name": "ipython",
    "version": 3
   },
   "file_extension": ".py",
   "mimetype": "text/x-python",
   "name": "python",
   "nbconvert_exporter": "python",
   "pygments_lexer": "ipython3",
   "version": "3.6.8"
  }
 },
 "nbformat": 4,
 "nbformat_minor": 2
}
